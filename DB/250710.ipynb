{
 "cells": [
  {
   "cell_type": "code",
   "execution_count": 1,
   "id": "ec3f75c9",
   "metadata": {},
   "outputs": [
    {
     "name": "stdout",
     "output_type": "stream",
     "text": [
      "Collecting pymysql\n",
      "  Using cached PyMySQL-1.1.1-py3-none-any.whl.metadata (4.4 kB)\n",
      "Using cached PyMySQL-1.1.1-py3-none-any.whl (44 kB)\n",
      "Installing collected packages: pymysql\n",
      "Successfully installed pymysql-1.1.1\n",
      "Note: you may need to restart the kernel to use updated packages.\n"
     ]
    },
    {
     "name": "stderr",
     "output_type": "stream",
     "text": [
      "WARNING: Error parsing dependencies of ipython-genutils: [Errno 2] No such file or directory: 'c:\\\\users\\\\guddk\\\\anaconda3\\\\lib\\\\site-packages\\\\ipython_genutils-0.2.0.dist-info\\\\METADATA'\n",
      "WARNING: Error parsing dependencies of jupyter-highlight-selected-word: [Errno 2] No such file or directory: 'c:\\\\users\\\\guddk\\\\anaconda3\\\\lib\\\\site-packages\\\\jupyter_highlight_selected_word-0.2.0.dist-info\\\\METADATA'\n",
      "\n",
      "[notice] A new release of pip is available: 24.3.1 -> 25.1.1\n",
      "[notice] To update, run: python.exe -m pip install --upgrade pip\n"
     ]
    }
   ],
   "source": [
    "%pip install pymysql"
   ]
  },
  {
   "cell_type": "code",
   "execution_count": null,
   "id": "34dde93c",
   "metadata": {},
   "outputs": [],
   "source": [
    "import pymysql"
   ]
  },
  {
   "cell_type": "code",
   "execution_count": null,
   "id": "a6ba0260",
   "metadata": {},
   "outputs": [],
   "source": [
    "# 실습 PyMySQL"
   ]
  },
  {
   "cell_type": "code",
   "execution_count": 2,
   "id": "e5c99b39",
   "metadata": {},
   "outputs": [],
   "source": [
    "envs = {}\n",
    "with open(\".env\", \"r\") as f:\n",
    "    for line in f.readlines():\n",
    "        key, value = line.rstrip().split(\"=\")\n",
    "        envs[key] = value"
   ]
  },
  {
   "cell_type": "code",
   "execution_count": 3,
   "id": "2257e14b",
   "metadata": {},
   "outputs": [],
   "source": [
    "db_config = {}\n",
    "\n",
    "for k, v in envs.items():\n",
    "    if 'DB' not in k:\n",
    "        continue\n",
    "    k = k.split('_')[1].lower()\n",
    "    if k == 'port':\n",
    "        v = int(v)\n",
    "    db_config[k] = v\n",
    "\n",
    "conn = pymysql.connect(**db_config)"
   ]
  },
  {
   "cell_type": "code",
   "execution_count": 5,
   "id": "a67752f0",
   "metadata": {},
   "outputs": [],
   "source": [
    "with conn.cursor() as cur:\n",
    "    result = cur.execute(\n",
    "        'INSERT INTO students (Name, Email, Phone,Major) VALUES (%s,%s,%s,%s);',\n",
    "        ('ahyung','guddk18@naver.com','010-0000-0000','게임')\n",
    "    )\n",
    "conn.commit()"
   ]
  },
  {
   "cell_type": "code",
   "execution_count": 7,
   "id": "b8c69d08",
   "metadata": {},
   "outputs": [],
   "source": [
    "\n",
    "with conn.cursor() as cur:\n",
    "    result = cur.executemany(\n",
    "        'INSERT INTO students (Name, Email, Phone,Major) VALUES (%s,%s,%s,%s);',\n",
    "        [('zero','zero@naver.com','010-0000-0000','바이오'),('Joe','Joe@naver.com','010-0000-0000','국어교육'),('abcd','abcd@naver.com','010-0000-0000','건축학과'),(\n",
    "    'qwer','qwer@gmail.com','010-0000-0000','생명공학')]\n",
    "    )\n",
    "conn.commit()\n"
   ]
  },
  {
   "cell_type": "code",
   "execution_count": 11,
   "id": "45316d08",
   "metadata": {},
   "outputs": [
    {
     "data": {
      "text/plain": [
       "[{'StudentID': 1,\n",
       "  'Name': 'ahyung',\n",
       "  'Email': 'guddk18@naver.com',\n",
       "  'Phone': '010-0000-0000',\n",
       "  'Major': '게임'},\n",
       " {'StudentID': 2,\n",
       "  'Name': 'zero',\n",
       "  'Email': 'zero@naver.com',\n",
       "  'Phone': '010-0000-0000',\n",
       "  'Major': '바이오'},\n",
       " {'StudentID': 3,\n",
       "  'Name': 'Joe',\n",
       "  'Email': 'Joe@naver.com',\n",
       "  'Phone': '010-0000-0000',\n",
       "  'Major': '국어교육'},\n",
       " {'StudentID': 4,\n",
       "  'Name': 'abcd',\n",
       "  'Email': 'abcd@naver.com',\n",
       "  'Phone': '010-0000-0000',\n",
       "  'Major': '건축학과'},\n",
       " {'StudentID': 5,\n",
       "  'Name': 'qwer',\n",
       "  'Email': 'qwer@gmail.com',\n",
       "  'Phone': '010-0000-0000',\n",
       "  'Major': '생명공학'}]"
      ]
     },
     "execution_count": 11,
     "metadata": {},
     "output_type": "execute_result"
    }
   ],
   "source": [
    "import pymysql.cursors\n",
    "\n",
    "\n",
    "with conn.cursor(cursor=pymysql.cursors.DictCursor) as cur:\n",
    "    result = cur.execute('SELECT * FROM students')\n",
    "    datas = cur.fetchall()\n",
    "datas"
   ]
  },
  {
   "cell_type": "code",
   "execution_count": 4,
   "id": "36fb8495",
   "metadata": {},
   "outputs": [],
   "source": [
    "# 이메일 수정\n",
    "with conn.cursor() as cur:\n",
    "    sql = \"UPDATE Students SET Email=%s WHERE StudentID=%s\"\n",
    "    cur.execute(sql,('pymysql@python.org',1))\n",
    "conn.commit()"
   ]
  },
  {
   "cell_type": "code",
   "execution_count": 6,
   "id": "aad77dd0",
   "metadata": {},
   "outputs": [],
   "source": [
    "# DB에서 삭제\n",
    "with conn.cursor() as cur:\n",
    "    cur.execute(\"DELETE FROM students WHERE StudentID = %s\", 1)\n",
    "conn.commit()"
   ]
  },
  {
   "cell_type": "code",
   "execution_count": null,
   "id": "6ffe4c43",
   "metadata": {},
   "outputs": [],
   "source": [
    "# 클래스화 "
   ]
  },
  {
   "cell_type": "code",
   "execution_count": null,
   "id": "6904b85d",
   "metadata": {},
   "outputs": [],
   "source": []
  },
  {
   "cell_type": "code",
   "execution_count": null,
   "id": "5569eedd",
   "metadata": {},
   "outputs": [],
   "source": []
  },
  {
   "cell_type": "code",
   "execution_count": null,
   "id": "dc6d28dc",
   "metadata": {},
   "outputs": [],
   "source": []
  },
  {
   "cell_type": "markdown",
   "id": "82add189",
   "metadata": {},
   "source": [
    "### db_250710"
   ]
  },
  {
   "cell_type": "code",
   "execution_count": null,
   "id": "47baddfd",
   "metadata": {},
   "outputs": [],
   "source": [
    "# 4\n",
    "# company_py_db 라는 데이터베이스를 생성하고,\n",
    "# company_db와 동일한 테이블 상태가 되도록 pymysql을 사용해보세요.\n",
    "# faker 라이브러리를 활용해 데이터를 2000개의 삽입한 뒤,\n",
    "# 앞에서 수행한 3번에 대한 문제를 해결해보세요."
   ]
  },
  {
   "cell_type": "code",
   "execution_count": null,
   "id": "922a2cdf",
   "metadata": {},
   "outputs": [
    {
     "name": "stdout",
     "output_type": "stream",
     "text": [
      "Requirement already satisfied: pymysql in c:\\users\\guddk\\anaconda3\\lib\\site-packages (1.1.1)\n",
      "Collecting faker\n",
      "  Downloading faker-37.4.0-py3-none-any.whl.metadata (15 kB)\n",
      "Requirement already satisfied: tzdata in c:\\users\\guddk\\anaconda3\\lib\\site-packages (from faker) (2024.2)\n",
      "Downloading faker-37.4.0-py3-none-any.whl (1.9 MB)\n",
      "   ---------------------------------------- 0.0/1.9 MB ? eta -:--:--\n",
      "   ------------------------------------- -- 1.8/1.9 MB 10.1 MB/s eta 0:00:01\n",
      "   ---------------------------------------- 1.9/1.9 MB 8.3 MB/s eta 0:00:00\n",
      "Installing collected packages: faker\n",
      "Successfully installed faker-37.4.0\n",
      "Note: you may need to restart the kernel to use updated packages.\n"
     ]
    },
    {
     "name": "stderr",
     "output_type": "stream",
     "text": [
      "WARNING: Error parsing dependencies of ipython-genutils: [Errno 2] No such file or directory: 'c:\\\\users\\\\guddk\\\\anaconda3\\\\lib\\\\site-packages\\\\ipython_genutils-0.2.0.dist-info\\\\METADATA'\n",
      "WARNING: Error parsing dependencies of jupyter-highlight-selected-word: [Errno 2] No such file or directory: 'c:\\\\users\\\\guddk\\\\anaconda3\\\\lib\\\\site-packages\\\\jupyter_highlight_selected_word-0.2.0.dist-info\\\\METADATA'\n",
      "\n",
      "[notice] A new release of pip is available: 24.3.1 -> 25.1.1\n",
      "[notice] To update, run: python.exe -m pip install --upgrade pip\n"
     ]
    }
   ],
   "source": [
    "# %pip install pymysql faker"
   ]
  },
  {
   "cell_type": "code",
   "execution_count": 17,
   "id": "4d335e55",
   "metadata": {},
   "outputs": [],
   "source": [
    "# 강사님 env 풀이 \n",
    "import pymysql\n",
    "\n",
    "envs = dict([l.rstrip().split('=') for l in open('.env', 'r').readlines()])\n",
    "\n",
    "db_config = {\n",
    "    k.split('_')[-1].lower(): int(v) if v.isdecimal() else v \n",
    "    for k, v in envs.items() if 'DB' in k\n",
    "}\n",
    "\n",
    "conn = pymysql.connect(**db_config)"
   ]
  },
  {
   "cell_type": "code",
   "execution_count": 18,
   "id": "93c1997b",
   "metadata": {},
   "outputs": [],
   "source": [
    "from faker import Faker\n",
    "fake = Faker()"
   ]
  },
  {
   "cell_type": "code",
   "execution_count": 19,
   "id": "87074a9b",
   "metadata": {},
   "outputs": [
    {
     "data": {
      "text/plain": [
       "'Forensic psychologist'"
      ]
     },
     "execution_count": 19,
     "metadata": {},
     "output_type": "execute_result"
    }
   ],
   "source": [
    "fake.job()"
   ]
  },
  {
   "cell_type": "code",
   "execution_count": null,
   "id": "c8d99827",
   "metadata": {},
   "outputs": [
    {
     "data": {
      "text/plain": [
       "'과장'"
      ]
     },
     "execution_count": 6,
     "metadata": {},
     "output_type": "execute_result"
    }
   ],
   "source": [
    "# import random\n",
    "# random.choice(['신입','대리','과장','부장','차장','사장'])"
   ]
  },
  {
   "cell_type": "code",
   "execution_count": 7,
   "id": "113b5f46",
   "metadata": {},
   "outputs": [
    {
     "data": {
      "text/plain": [
       "'차장'"
      ]
     },
     "execution_count": 7,
     "metadata": {},
     "output_type": "execute_result"
    }
   ],
   "source": [
    "fake.random_choices(['신입','대리','과장','부장','차장','사장'], 1)[0]"
   ]
  },
  {
   "cell_type": "code",
   "execution_count": 8,
   "id": "6fd0e829",
   "metadata": {},
   "outputs": [
    {
     "data": {
      "text/plain": [
       "4"
      ]
     },
     "execution_count": 8,
     "metadata": {},
     "output_type": "execute_result"
    }
   ],
   "source": [
    "fake.random_int(1,5)"
   ]
  },
  {
   "cell_type": "code",
   "execution_count": null,
   "id": "efc3d62e",
   "metadata": {},
   "outputs": [],
   "source": []
  },
  {
   "cell_type": "code",
   "execution_count": 20,
   "id": "9125e184",
   "metadata": {},
   "outputs": [],
   "source": [
    "def insert_employees():\n",
    "    infos = []\n",
    "    for i in range(2000):\n",
    "        name = fake.name()\n",
    "        postion = fake.random_choices(['신입','대리','과장','부장','차장','사장'], 1)[0]\n",
    "        hire_date = fake.date()\n",
    "        salary = fake.random_int(1, 25) * 100\n",
    "        is_active = fake.random_int(0,1)\n",
    "        department_id = fake.random_int(1,1)\n",
    "\n",
    "        info = (name, postion, hire_date, is_active, department_id, salary)\n",
    "        infos.append(info)\n",
    "\n",
    "    with conn.cursor() as cur:\n",
    "        cur.executemany(\"\"\" \n",
    "            INSERT INTO tb_employee(name,position, hire_date, is_active, department_id, salary)\n",
    "                VALUES(%s, %s, %s, %s, %s,%s);\n",
    "                    \"\"\", infos)\n",
    "    \n",
    "        conn.commit()\n",
    "\n",
    "insert_employees()"
   ]
  },
  {
   "cell_type": "code",
   "execution_count": null,
   "id": "1a7f8e5e",
   "metadata": {},
   "outputs": [],
   "source": []
  },
  {
   "cell_type": "code",
   "execution_count": null,
   "id": "0420e7cd",
   "metadata": {},
   "outputs": [],
   "source": [
    "## -----\n",
    "import pymysql\n",
    "\n",
    "envs = {}\n",
    "with open(\".env\", \"r\") as f:\n",
    "    for line in f.readlines():\n",
    "        key, value = line.rstrip().split(\"=\")\n",
    "        envs[key] = value\n",
    "\n",
    "db_config = {}\n",
    "\n",
    "for k, v in envs.items():\n",
    "    if 'DB' not in k:\n",
    "        continue\n",
    "    k = k.split('_')[1].lower()\n",
    "    if k == 'port':\n",
    "        v = int(v)\n",
    "    db_config[k] = v\n",
    "\n",
    "conn = pymysql.connect(**db_config)\n"
   ]
  },
  {
   "cell_type": "code",
   "execution_count": null,
   "id": "604e723d",
   "metadata": {},
   "outputs": [],
   "source": [
    "conn.close()"
   ]
  }
 ],
 "metadata": {
  "kernelspec": {
   "display_name": "base",
   "language": "python",
   "name": "python3"
  },
  "language_info": {
   "codemirror_mode": {
    "name": "ipython",
    "version": 3
   },
   "file_extension": ".py",
   "mimetype": "text/x-python",
   "name": "python",
   "nbconvert_exporter": "python",
   "pygments_lexer": "ipython3",
   "version": "3.10.16"
  }
 },
 "nbformat": 4,
 "nbformat_minor": 5
}
