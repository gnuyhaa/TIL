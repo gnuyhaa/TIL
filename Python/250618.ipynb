{
 "cells": [
  {
   "cell_type": "code",
   "execution_count": null,
   "id": "fd4285f2",
   "metadata": {},
   "outputs": [
    {
     "name": "stdout",
     "output_type": "stream",
     "text": [
      "안녕, 철수야\n"
     ]
    }
   ],
   "source": [
    "name = \"철수야\"\n",
    "print(\"안녕, %s\" % name)"
   ]
  },
  {
   "cell_type": "code",
   "execution_count": 9,
   "id": "dda16fa0",
   "metadata": {},
   "outputs": [
    {
     "name": "stdout",
     "output_type": "stream",
     "text": [
      "*****\n",
      "*****\n",
      "*****\n",
      "*****\n",
      "*****\n",
      "*****\n",
      "*****\n",
      "*****\n",
      "*****\n"
     ]
    }
   ],
   "source": [
    "n = 5\n",
    "m = 9\n",
    "line = '*' * n\n",
    "\n",
    "print(line)\n",
    "print(line)\n",
    "print(line)\n",
    "print(line)\n",
    "print(line)\n",
    "print(line)\n",
    "print(line)\n",
    "print(line)\n",
    "print(line)"
   ]
  },
  {
   "cell_type": "code",
   "execution_count": null,
   "id": "bdcb0fd9",
   "metadata": {},
   "outputs": [
    {
     "name": "stdout",
     "output_type": "stream",
     "text": [
      "\"파일은 C:/Windows/Users/내문서/Python에 저장이 되었습니다.\"\n",
      "나는 생각했다. 'cd를 써서 git bash로 들어가 봐야지.'\n"
     ]
    }
   ],
   "source": [
    "print(\n",
    "    '\"파일은 C:/Windows/Users/내문서/Python에 저장이 되었습니다.\"\\n'\n",
    "    + \"나는 생각했다.\"\n",
    "    + \" 'cd를 써서 git bash로 들어가 봐야지.'\"\n",
    ")"
   ]
  },
  {
   "cell_type": "code",
   "execution_count": 10,
   "id": "1bfbe204",
   "metadata": {},
   "outputs": [
    {
     "name": "stdout",
     "output_type": "stream",
     "text": [
      "{'아형': 23, '민지': 35, '민수': 28, '수지': 20}\n"
     ]
    }
   ],
   "source": [
    "students = {\n",
    "    '아형': 23,\n",
    "    '민지': 35,\n",
    "    '민수': 28,\n",
    "    '수지': 20\n",
    "}\n",
    "print(students)"
   ]
  },
  {
   "cell_type": "code",
   "execution_count": null,
   "id": "64bb9be1",
   "metadata": {},
   "outputs": [],
   "source": []
  }
 ],
 "metadata": {
  "kernelspec": {
   "display_name": "base",
   "language": "python",
   "name": "python3"
  },
  "language_info": {
   "codemirror_mode": {
    "name": "ipython",
    "version": 3
   },
   "file_extension": ".py",
   "mimetype": "text/x-python",
   "name": "python",
   "nbconvert_exporter": "python",
   "pygments_lexer": "ipython3",
   "version": "3.10.16"
  }
 },
 "nbformat": 4,
 "nbformat_minor": 5
}
