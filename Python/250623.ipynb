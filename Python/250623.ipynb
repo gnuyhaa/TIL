{
 "cells": [
  {
   "cell_type": "code",
   "execution_count": null,
   "id": "45c91b2c",
   "metadata": {},
   "outputs": [
    {
     "name": "stdout",
     "output_type": "stream",
     "text": [
      "1\n",
      "2\n",
      "3\n",
      "4\n",
      "5\n",
      "6\n",
      "7\n",
      "8\n",
      "9\n",
      "10\n"
     ]
    }
   ],
   "source": [
    "### 1. 자연수 number를 입력 받아, 1부터 number까지의 수를 세로로 한줄씩 출력하시오.\n",
    "\n",
    "# while문 풀이\n",
    "number = int(input())\n",
    "num = 0\n",
    "while number > num:\n",
    "    num += 1\n",
    "    print(num)"
   ]
  },
  {
   "cell_type": "code",
   "execution_count": 1,
   "id": "1fb12a4f",
   "metadata": {},
   "outputs": [
    {
     "name": "stdout",
     "output_type": "stream",
     "text": [
      "1\n",
      "2\n",
      "3\n",
      "4\n",
      "5\n",
      "6\n",
      "7\n",
      "8\n",
      "9\n",
      "10\n"
     ]
    }
   ],
   "source": [
    "# 1번 문제 for문 풀이\n",
    "number = int(input())\n",
    "for num in range(1, number+1):\n",
    "    print(num)"
   ]
  },
  {
   "cell_type": "code",
   "execution_count": 13,
   "id": "47a15157",
   "metadata": {},
   "outputs": [
    {
     "name": "stdout",
     "output_type": "stream",
     "text": [
      "10\n",
      "9\n",
      "8\n",
      "7\n",
      "6\n",
      "5\n",
      "4\n",
      "3\n",
      "2\n",
      "1\n",
      "0\n"
     ]
    }
   ],
   "source": [
    "### 2. 자연수 number를 입력 받아, number부터 0까지의 수를 세로로 한줄씩 출력하시오.\n",
    "\n",
    "number = int(input())\n",
    "\n",
    "while number >= 0:\n",
    "    print(number)\n",
    "    number -= 1"
   ]
  },
  {
   "cell_type": "code",
   "execution_count": null,
   "id": "7cd3644b",
   "metadata": {},
   "outputs": [
    {
     "name": "stdout",
     "output_type": "stream",
     "text": [
      "10\n",
      "9\n",
      "8\n",
      "7\n",
      "6\n",
      "5\n",
      "4\n",
      "3\n",
      "2\n",
      "1\n",
      "0\n"
     ]
    }
   ],
   "source": [
    "# 2번 문제 for문 풀이\n",
    "\n",
    "number = int(input())\n",
    "for num in range(number, -1, -1):\n",
    "    print(num)\n",
    "\n",
    "for num in range(number + 1):\n",
    "    print(number-num)\n",
    "\n",
    "for num in range(number + 1)[::-1]:\n",
    "    print(num)\n"
   ]
  },
  {
   "cell_type": "code",
   "execution_count": null,
   "id": "fdb8d180",
   "metadata": {},
   "outputs": [
    {
     "name": "stdout",
     "output_type": "stream",
     "text": [
      "55\n"
     ]
    }
   ],
   "source": [
    "### 3. 입력으로 자연수 number가 주어질 때, 1부터 주어진 자연수 number까지를 모두 더한 값을 출력하시오. 단, 주어지는 숫자는 10000을 넘지 않는다. 예를 들어, 주어진 숫자가 10일 경우 1 + 2 + 3 + 4 + 5 + 6 + 7 + 8 + 9 + 10 = 55이므로, 출력해야 할 값은 55이다.\n",
    "user_num = int(input())\n",
    "total = 0\n",
    "num = 0 # num = 1\n",
    "\n",
    "while user_num > num: # while num <= user_num\n",
    "    num += 1                # total += num\n",
    "    total += num            # num += 1\n",
    "print(total)"
   ]
  },
  {
   "cell_type": "code",
   "execution_count": null,
   "id": "3e32402d",
   "metadata": {},
   "outputs": [],
   "source": [
    "total = 0\n",
    "while user_num:\n",
    "    total += user_num\n",
    "    user_num -= 1\n",
    "print(total)"
   ]
  },
  {
   "cell_type": "code",
   "execution_count": null,
   "id": "ba09b547",
   "metadata": {},
   "outputs": [
    {
     "name": "stdout",
     "output_type": "stream",
     "text": [
      "55\n"
     ]
    }
   ],
   "source": [
    "# 3번 for문 풀이\n",
    "num = int(input())\n",
    "\n",
    "total = 0\n",
    "for num in range(1, number + 1):\n",
    "    total += num\n",
    "print(total)"
   ]
  },
  {
   "cell_type": "code",
   "execution_count": 9,
   "id": "cebaf874",
   "metadata": {},
   "outputs": [
    {
     "name": "stdout",
     "output_type": "stream",
     "text": [
      "1 2 5 10\n"
     ]
    }
   ],
   "source": [
    "### 4. 입력으로 1개의 정수 N이 주어진다. 정수 N의 약수를 오름차순으로 출력하는 프로그램을 작성하시오.\n",
    "\n",
    "N = int(input())\n",
    "div = []\n",
    "\n",
    "for i in range(1, N+1):\n",
    "    if N % i == 0:\n",
    "        div.append(i)\n",
    "        # print(i, end = ' ')\n",
    "\n",
    "print(*div,sep=' ')\n"
   ]
  },
  {
   "cell_type": "code",
   "execution_count": null,
   "id": "353913ca",
   "metadata": {},
   "outputs": [
    {
     "name": "stdout",
     "output_type": "stream",
     "text": [
      "64\n"
     ]
    }
   ],
   "source": [
    "### 5. 중간값은 통계 집단의 수치를 크기 순으로 배열 했을 때 전체의 중앙에 위치하는 수치를 뜻한다. \n",
    "#   리스트 numbers에 입력된 숫자에서 중간값을 출력하라.\n",
    "numbers = [85, 72, 38, 80, 69, 65, 68, 96, 22, 49, 67, 51, 61, 63, 87, 66, 24, 80, 83, 71, 60, 64, 52, 90, 60, 49, 31, 23, 99, 94, 11, 25, 24]\n",
    "\n",
    "numbers.sort()\n",
    "n = len(numbers)\n",
    "\n",
    "if n % 2 == 1: # 홀수\n",
    "    # 가운데 1개 꺼내기\n",
    "    medi = numbers[n // 2]\n",
    "\n",
    "else: # 짝수\n",
    "    # 가운데 2개 꺼내서 더하기\n",
    "    medi = (numbers[n //2] + numbers[n // 2 -1]) / 2 \n",
    "print(medi)\n",
    "\n"
   ]
  },
  {
   "cell_type": "code",
   "execution_count": null,
   "id": "90a1897a",
   "metadata": {},
   "outputs": [
    {
     "name": "stdout",
     "output_type": "stream",
     "text": [
      "64\n"
     ]
    }
   ],
   "source": [
    "print(numbers.sort()) # 원본을 바꾼다 "
   ]
  },
  {
   "cell_type": "code",
   "execution_count": 1,
   "id": "96675d82",
   "metadata": {},
   "outputs": [
    {
     "name": "stdout",
     "output_type": "stream",
     "text": [
      "1 \n",
      "1 2 \n",
      "1 2 3 \n",
      "1 2 3 4 \n"
     ]
    }
   ],
   "source": [
    "### 6. 자연수 number를 입력 받아, 아래와 같이 높이가 number인 내려가는 계단을 출력하시오.\n",
    "# 1\n",
    "# 1 2 \n",
    "# 1 2 3 \n",
    "# 1 2 3 4\n",
    "\n",
    "number = int(input())\n",
    "for i in range(1, number+1):\n",
    "    for j in range(1, i+1):\n",
    "        print(j, end =' ')\n",
    "    print()\n"
   ]
  },
  {
   "cell_type": "code",
   "execution_count": 19,
   "id": "beade49b",
   "metadata": {},
   "outputs": [
    {
     "name": "stdout",
     "output_type": "stream",
     "text": [
      "* \n",
      "* * \n",
      "* * * \n",
      "* * * * \n",
      "* * * * * \n",
      "* * * * * * \n",
      "* * * * * * * \n",
      "* * * * * * * * \n",
      "* * * * * * * * * \n"
     ]
    }
   ],
   "source": [
    "n = 5\n",
    "m = 9\n",
    "for i in range(m):\n",
    "    for j in range(i+1):\n",
    "        print('*', end =' ')\n",
    "    print()"
   ]
  }
 ],
 "metadata": {
  "kernelspec": {
   "display_name": "base",
   "language": "python",
   "name": "python3"
  },
  "language_info": {
   "codemirror_mode": {
    "name": "ipython",
    "version": 3
   },
   "file_extension": ".py",
   "mimetype": "text/x-python",
   "name": "python",
   "nbconvert_exporter": "python",
   "pygments_lexer": "ipython3",
   "version": "3.10.16"
  }
 },
 "nbformat": 4,
 "nbformat_minor": 5
}
