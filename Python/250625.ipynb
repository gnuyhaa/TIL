{
 "cells": [
  {
   "cell_type": "code",
   "execution_count": null,
   "id": "d6f318fb",
   "metadata": {},
   "outputs": [],
   "source": [
    "## 250625_adv"
   ]
  },
  {
   "cell_type": "code",
   "execution_count": null,
   "id": "fc4adb46",
   "metadata": {},
   "outputs": [
    {
     "data": {
      "text/plain": [
       "'a'"
      ]
     },
     "execution_count": 3,
     "metadata": {},
     "output_type": "execute_result"
    }
   ],
   "source": [
    "ord(\"a\")  # 97\n",
    "chr(97)  # 'a'"
   ]
  },
  {
   "cell_type": "code",
   "execution_count": null,
   "id": "59158b08",
   "metadata": {},
   "outputs": [],
   "source": [
    "# 1. 정수로 이루어진 list를 전달 받아, 각 정수에 대응되는 아스키 문자를 이어붙인 문자열을\n",
    "# 반환하는 get_secret_word 함수를 작성하시오. 단, list는 65이상 90이하 그리고 97이상\n",
    "# 122이하의 정수로만 구성되어 있다."
   ]
  },
  {
   "cell_type": "code",
   "execution_count": null,
   "id": "54a744cc",
   "metadata": {},
   "outputs": [
    {
     "data": {
      "text/plain": [
       "'Sosln'"
      ]
     },
     "execution_count": 8,
     "metadata": {},
     "output_type": "execute_result"
    }
   ],
   "source": [
    "words = [83, 111, 115, 108, 110]\n",
    "\n",
    "result = \"\"\n",
    "for word in words:\n",
    "    result += chr(word)\n",
    "result"
   ]
  },
  {
   "cell_type": "code",
   "execution_count": null,
   "id": "be09e1dd",
   "metadata": {},
   "outputs": [],
   "source": [
    "def get_secret_word(numbers):\n",
    "    result = \"\"\n",
    "    for num in numbers:\n",
    "        result += chr(num)\n",
    "    return result"
   ]
  },
  {
   "cell_type": "code",
   "execution_count": 10,
   "id": "4e58f561",
   "metadata": {},
   "outputs": [
    {
     "data": {
      "text/plain": [
       "'Sosln'"
      ]
     },
     "execution_count": 10,
     "metadata": {},
     "output_type": "execute_result"
    }
   ],
   "source": [
    "get_secret_word([83, 111, 115, 108, 110])"
   ]
  },
  {
   "cell_type": "code",
   "execution_count": null,
   "id": "6790348c",
   "metadata": {},
   "outputs": [],
   "source": [
    "# 2. 내 이름은 몇일까?"
   ]
  },
  {
   "cell_type": "code",
   "execution_count": 15,
   "id": "dba148ae",
   "metadata": {},
   "outputs": [],
   "source": [
    "def get_secret_number(name):\n",
    "    result = 0\n",
    "    for s in name:\n",
    "        result += ord(s)\n",
    "    return result"
   ]
  },
  {
   "cell_type": "code",
   "execution_count": null,
   "id": "aac9c49f",
   "metadata": {},
   "outputs": [
    {
     "data": {
      "text/plain": [
       "336"
      ]
     },
     "execution_count": 16,
     "metadata": {},
     "output_type": "execute_result"
    }
   ],
   "source": [
    "get_secret_number(\"tom\")"
   ]
  },
  {
   "cell_type": "code",
   "execution_count": null,
   "id": "ab9d7be6",
   "metadata": {},
   "outputs": [],
   "source": [
    "# 3. 강한 이름"
   ]
  },
  {
   "cell_type": "code",
   "execution_count": 23,
   "id": "f3276f80",
   "metadata": {},
   "outputs": [],
   "source": [
    "# 문자를 숫자로 전달받고\n",
    "# 각 숫자들의 크기를 비교 후\n",
    "# 가장 큰 숫자의 문자를 출력\n",
    "\n",
    "\n",
    "def get_strong_word(word1, word2):\n",
    "    res1, res2 = 0, 0\n",
    "    for w1 in word1:\n",
    "        res1 += ord(w1)\n",
    "    for w2 in word2:\n",
    "        res2 += ord(w2)\n",
    "    if res1> res2:\n",
    "        return word1\n",
    "    else:\n",
    "        return word2"
   ]
  },
  {
   "cell_type": "code",
   "execution_count": 25,
   "id": "bedacf58",
   "metadata": {},
   "outputs": [
    {
     "data": {
      "text/plain": [
       "'john'"
      ]
     },
     "execution_count": 25,
     "metadata": {},
     "output_type": "execute_result"
    }
   ],
   "source": [
    "get_strong_word('z','a')\n",
    "get_strong_word('tom', 'john')"
   ]
  },
  {
   "cell_type": "code",
   "execution_count": null,
   "id": "80b0c6a9",
   "metadata": {},
   "outputs": [],
   "source": []
  }
 ],
 "metadata": {
  "kernelspec": {
   "display_name": "base",
   "language": "python",
   "name": "python3"
  },
  "language_info": {
   "codemirror_mode": {
    "name": "ipython",
    "version": 3
   },
   "file_extension": ".py",
   "mimetype": "text/x-python",
   "name": "python",
   "nbconvert_exporter": "python",
   "pygments_lexer": "ipython3",
   "version": "3.10.16"
  }
 },
 "nbformat": 4,
 "nbformat_minor": 5
}
