{
 "cells": [
  {
   "cell_type": "code",
   "execution_count": 2,
   "id": "90cc163b",
   "metadata": {},
   "outputs": [
    {
     "name": "stdout",
     "output_type": "stream",
     "text": [
      "아직 게임 기록이 없습니다.\n",
      "Computer: 바위\n",
      "컴퓨터 승리!\n",
      "Computer: 가위\n",
      "무승부\n",
      "Computer: 가위\n",
      "플레이어 승리!\n",
      "Computer: 바위\n",
      "플레이어 승리!\n",
      "Computer: 바위\n",
      "플레이어 승리!\n",
      "Computer: 바위\n",
      "컴퓨터 승리!\n",
      "Computer: 보\n",
      "컴퓨터 승리!\n",
      "Computer: 가위\n",
      "플레이어 승리!\n",
      "현재까지 승률: 50.0%\n"
     ]
    },
    {
     "name": "stderr",
     "output_type": "stream",
     "text": [
      "c:\\Users\\guddk\\anaconda3\\lib\\site-packages\\IPython\\core\\pylabtools.py:170: UserWarning: Glyph 54943 (\\N{HANGUL SYLLABLE HOES}) missing from font(s) DejaVu Sans.\n",
      "  fig.canvas.print_figure(bytes_io, **kw)\n",
      "c:\\Users\\guddk\\anaconda3\\lib\\site-packages\\IPython\\core\\pylabtools.py:170: UserWarning: Glyph 49688 (\\N{HANGUL SYLLABLE SU}) missing from font(s) DejaVu Sans.\n",
      "  fig.canvas.print_figure(bytes_io, **kw)\n",
      "c:\\Users\\guddk\\anaconda3\\lib\\site-packages\\IPython\\core\\pylabtools.py:170: UserWarning: Glyph 44032 (\\N{HANGUL SYLLABLE GA}) missing from font(s) DejaVu Sans.\n",
      "  fig.canvas.print_figure(bytes_io, **kw)\n",
      "c:\\Users\\guddk\\anaconda3\\lib\\site-packages\\IPython\\core\\pylabtools.py:170: UserWarning: Glyph 50948 (\\N{HANGUL SYLLABLE WI}) missing from font(s) DejaVu Sans.\n",
      "  fig.canvas.print_figure(bytes_io, **kw)\n",
      "c:\\Users\\guddk\\anaconda3\\lib\\site-packages\\IPython\\core\\pylabtools.py:170: UserWarning: Glyph 48148 (\\N{HANGUL SYLLABLE BA}) missing from font(s) DejaVu Sans.\n",
      "  fig.canvas.print_figure(bytes_io, **kw)\n",
      "c:\\Users\\guddk\\anaconda3\\lib\\site-packages\\IPython\\core\\pylabtools.py:170: UserWarning: Glyph 48372 (\\N{HANGUL SYLLABLE BO}) missing from font(s) DejaVu Sans.\n",
      "  fig.canvas.print_figure(bytes_io, **kw)\n",
      "c:\\Users\\guddk\\anaconda3\\lib\\site-packages\\IPython\\core\\pylabtools.py:170: UserWarning: Glyph 44208 (\\N{HANGUL SYLLABLE GYEOL}) missing from font(s) DejaVu Sans.\n",
      "  fig.canvas.print_figure(bytes_io, **kw)\n",
      "c:\\Users\\guddk\\anaconda3\\lib\\site-packages\\IPython\\core\\pylabtools.py:170: UserWarning: Glyph 44284 (\\N{HANGUL SYLLABLE GWA}) missing from font(s) DejaVu Sans.\n",
      "  fig.canvas.print_figure(bytes_io, **kw)\n"
     ]
    },
    {
     "data": {
      "image/png": "[encoded data removed]",
      "text/plain": [
       "<Figure size 640x480 with 1 Axes>"
      ]
     },
     "metadata": {},
     "output_type": "display_data"
    },
    {
     "name": "stdout",
     "output_type": "stream",
     "text": [
      "게임을 종료합니다.\n"
     ]
    }
   ],
   "source": [
    "import random\n",
    "import matplotlib.pyplot as plt\n",
    "\n",
    "# 승/무/패 횟수 저장\n",
    "win = 0\n",
    "lose = 0\n",
    "draw = 0\n",
    "\n",
    "# 게임 반복\n",
    "while True:\n",
    "    user = input(\"Player (가위/바위/보/승률/그래프/종료): \").strip()\n",
    "\n",
    "    if user == '종료':\n",
    "        print(\"게임을 종료합니다.\")\n",
    "        break\n",
    "\n",
    "    elif user == '승률':\n",
    "        total = win + lose + draw\n",
    "        if total > 0:\n",
    "            rate = (win / total) * 100\n",
    "            print(f\"현재까지 승률: {rate:.1f}%\")\n",
    "        else:\n",
    "            print(\"아직 게임 기록이 없습니다.\")\n",
    "        continue\n",
    "\n",
    "    elif user == '그래프':\n",
    "        labels = ['win', 'lose', 'draw']\n",
    "        values = [win, lose, draw]\n",
    "        plt.bar(labels, values)\n",
    "        plt.title(\"가위바위보 결과\")\n",
    "        plt.ylabel(\"횟수\")\n",
    "        plt.show()\n",
    "        continue\n",
    "\n",
    "    elif user not in ['가위', '바위', '보']:\n",
    "        print(\"잘못된 입력입니다.\")\n",
    "        continue\n",
    "\n",
    "    # 컴퓨터 선택\n",
    "    computer = random.choice(['가위', '바위', '보'])\n",
    "    print(f\"Computer: {computer}\")\n",
    "\n",
    "    # 결과 판정\n",
    "    if user == computer:\n",
    "        print(\"무승부\")\n",
    "        draw += 1\n",
    "    elif (user == '가위' and computer == '보') or \\\n",
    "         (user == '바위' and computer == '가위') or \\\n",
    "         (user == '보' and computer == '바위'):\n",
    "        print(\"플레이어 승리!\")\n",
    "        win += 1\n",
    "    else:\n",
    "        print(\"컴퓨터 승리!\")\n",
    "        lose += 1\n"
   ]
  }
 ],
 "metadata": {
  "kernelspec": {
   "display_name": "base",
   "language": "python",
   "name": "python3"
  },
  "language_info": {
   "codemirror_mode": {
    "name": "ipython",
    "version": 3
   },
   "file_extension": ".py",
   "mimetype": "text/x-python",
   "name": "python",
   "nbconvert_exporter": "python",
   "pygments_lexer": "ipython3",
   "version": "3.10.16"
  }
 },
 "nbformat": 4,
 "nbformat_minor": 5
}
