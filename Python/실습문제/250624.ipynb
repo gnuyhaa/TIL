{
 "cells": [
  {
   "cell_type": "code",
   "execution_count": null,
   "id": "19259e7b",
   "metadata": {},
   "outputs": [],
   "source": [
    "# 2 문자열을 전달 받아 해당 문자열의 정중앙 문자를 반환하는 get_middle_char 함수를 작성하시오. 단, 문자열의 길이가 짝수일 경우에는 정중앙 문자 2개를 반환한다. \n",
    "\n",
    "# get_middle_char('study') # =>u\n",
    "# get_middle_char('python') # => th"
   ]
  },
  {
   "cell_type": "code",
   "execution_count": 21,
   "id": "2b7f2dec",
   "metadata": {},
   "outputs": [
    {
     "data": {
      "text/plain": [
       "'th'"
      ]
     },
     "execution_count": 21,
     "metadata": {},
     "output_type": "execute_result"
    }
   ],
   "source": [
    "a = input()\n",
    "b = len(a) //2\n",
    "\n",
    "if len(a) % 2 == 1:\n",
    "    medi = a[b]\n",
    "else:\n",
    "    medi = a[b - 1] + a[b]\n",
    "\n",
    "medi"
   ]
  },
  {
   "cell_type": "code",
   "execution_count": 23,
   "id": "431b97eb",
   "metadata": {},
   "outputs": [
    {
     "name": "stdout",
     "output_type": "stream",
     "text": [
      "th\n"
     ]
    }
   ],
   "source": [
    "def get_middle_char(s):\n",
    "    mid = len(s) // 2\n",
    "    if len(s) % 2 == 1:\n",
    "        return s[mid]\n",
    "    else:\n",
    "        return s[mid - 1] + s[mid]\n",
    "    \n",
    "user_input = input()\n",
    "print(get_middle_char(user_input))"
   ]
  },
  {
   "cell_type": "code",
   "execution_count": 3,
   "id": "c70f10a4",
   "metadata": {},
   "outputs": [],
   "source": [
    "# 3. 오류 발생 코드 ?\n",
    "def living(name, location ='서울'):\n",
    "    print(f'{name}의 지역은 {location}입니다.')\n",
    "\n"
   ]
  },
  {
   "cell_type": "code",
   "execution_count": 5,
   "id": "e8dc2c88",
   "metadata": {},
   "outputs": [
    {
     "ename": "SyntaxError",
     "evalue": "positional argument follows keyword argument (3152943220.py, line 4)",
     "output_type": "error",
     "traceback": [
      "\u001b[1;36m  Cell \u001b[1;32mIn[5], line 4\u001b[1;36m\u001b[0m\n\u001b[1;33m    living(name= '길동','구미') # 앞에 키워드인자가 먼저 나오면 그 다음 '구미'가 키워드인자인지 워치인자인지 혼동\u001b[0m\n\u001b[1;37m                          ^\u001b[0m\n\u001b[1;31mSyntaxError\u001b[0m\u001b[1;31m:\u001b[0m positional argument follows keyword argument\n"
     ]
    }
   ],
   "source": [
    "# 위치인자, 키워드인자\n",
    "# 위치인자가 먼저 나오고 키워드 인자가 나오도록 구성되어있음\n",
    "\n",
    "living(name= '길동','구미') # 앞에 키워드인자가 먼저 나오면 그 다음 '구미'가 키워드인자인지 워치인자인지 혼동\n"
   ]
  },
  {
   "cell_type": "code",
   "execution_count": null,
   "id": "9ea88959",
   "metadata": {},
   "outputs": [
    {
     "name": "stdout",
     "output_type": "stream",
     "text": [
      "10\n"
     ]
    }
   ],
   "source": [
    "# 4. result에 저장된 값\n",
    "\n",
    "def my_func(a,b):\n",
    "    c = a+b\n",
    "    print(c)\n",
    "\n",
    "result = my_func(3,7) # None"
   ]
  },
  {
   "cell_type": "code",
   "execution_count": 10,
   "id": "5135ddd3",
   "metadata": {},
   "outputs": [
    {
     "name": "stdout",
     "output_type": "stream",
     "text": [
      "81.0\n"
     ]
    }
   ],
   "source": [
    "# 5 평균값을 반환하는 my_avg 함수\n",
    "def my_avg(*args):\n",
    "    return sum(args) / len(args)\n",
    "\n",
    "print(my_avg(77, 83, 95, 80, 70))\n",
    "    "
   ]
  },
  {
   "cell_type": "markdown",
   "id": "e98b2eeb",
   "metadata": {},
   "source": [
    "### 250624_adv 문제"
   ]
  },
  {
   "cell_type": "code",
   "execution_count": 39,
   "id": "b8c170bf",
   "metadata": {},
   "outputs": [
    {
     "name": "stdout",
     "output_type": "stream",
     "text": [
      "15\n"
     ]
    }
   ],
   "source": [
    "# 1. list의 합 구하기 \n",
    "# sum() 사용 x\n",
    "# list_sum([1,2,3,4,5]) # 15\n",
    "def list_sum(numbers):\n",
    "    total = 0\n",
    "    for num in numbers:\n",
    "        total += num\n",
    "    return total\n",
    "\n",
    "print(list_sum([1,2,3,4,5]))"
   ]
  },
  {
   "cell_type": "code",
   "execution_count": 35,
   "id": "9f09f4a0",
   "metadata": {},
   "outputs": [
    {
     "data": {
      "text/plain": [
       "15"
      ]
     },
     "execution_count": 35,
     "metadata": {},
     "output_type": "execute_result"
    }
   ],
   "source": [
    "numbers = [1,2,3,4,5]\n",
    "total = 0\n",
    "for num in numbers:\n",
    "    total += num\n",
    "total"
   ]
  },
  {
   "cell_type": "code",
   "execution_count": null,
   "id": "5d29d3ec",
   "metadata": {},
   "outputs": [],
   "source": [
    "# 2. Dictionary로 이루어진 List의 합 구하기"
   ]
  },
  {
   "cell_type": "code",
   "execution_count": 43,
   "id": "def8ff8d",
   "metadata": {},
   "outputs": [
    {
     "name": "stdout",
     "output_type": "stream",
     "text": [
      "16\n"
     ]
    }
   ],
   "source": [
    "def dict_list_sum(dict_list):\n",
    "    total = 0\n",
    "    for item in dict_list:\n",
    "        total += item['age']\n",
    "    return total\n",
    "\n",
    "print(dict_list_sum([ {'name':'kim','age':12},{'name':'lee','age':4}]))"
   ]
  },
  {
   "cell_type": "code",
   "execution_count": 42,
   "id": "3280fa01",
   "metadata": {},
   "outputs": [
    {
     "data": {
      "text/plain": [
       "16"
      ]
     },
     "execution_count": 42,
     "metadata": {},
     "output_type": "execute_result"
    }
   ],
   "source": [
    "ex_lists =[ {'name':'kim','age':12},{'name':'lee','age':4}]\n",
    "total = 0\n",
    "for ex_list in ex_lists:\n",
    "    total += ex_list['age']\n",
    "total"
   ]
  },
  {
   "cell_type": "code",
   "execution_count": null,
   "id": "6433e3d2",
   "metadata": {},
   "outputs": [],
   "source": [
    "# 3. 2차원 List의 전체 합 구하기"
   ]
  },
  {
   "cell_type": "code",
   "execution_count": null,
   "id": "fb30ca95",
   "metadata": {},
   "outputs": [
    {
     "name": "stdout",
     "output_type": "stream",
     "text": [
      "55\n"
     ]
    }
   ],
   "source": [
    "def all_list_sum(two_list):\n",
    "    total=0\n",
    "    for sublist in two_list: # 바깥 리스트\n",
    "        for num in sublist: # 안쪽 리스트\n",
    "            total+=num\n",
    "    return total\n",
    "\n",
    "print(all_list_sum([[1],[2,3],[4,5,6],[7,8,9,10]]))"
   ]
  }
 ],
 "metadata": {
  "kernelspec": {
   "display_name": "base",
   "language": "python",
   "name": "python3"
  },
  "language_info": {
   "codemirror_mode": {
    "name": "ipython",
    "version": 3
   },
   "file_extension": ".py",
   "mimetype": "text/x-python",
   "name": "python",
   "nbconvert_exporter": "python",
   "pygments_lexer": "ipython3",
   "version": "3.10.16"
  }
 },
 "nbformat": 4,
 "nbformat_minor": 5
}
