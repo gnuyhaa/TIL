{
 "cells": [
  {
   "cell_type": "code",
   "execution_count": null,
   "id": "0ea2aad7",
   "metadata": {},
   "outputs": [
    {
     "data": {
      "text/plain": [
       "2"
      ]
     },
     "execution_count": 3,
     "metadata": {},
     "output_type": "execute_result"
    }
   ],
   "source": [
    "# 1. 모음은 몇 개나 있을까?\n",
    "vowels = \"aeiou\"\n",
    "words = \"apple\"\n",
    "\n",
    "count = 0\n",
    "for v in vowels:\n",
    "    count += words.count(v)\n",
    "count"
   ]
  },
  {
   "cell_type": "code",
   "execution_count": null,
   "id": "88134377",
   "metadata": {},
   "outputs": [],
   "source": [
    "def count_vowels(words):\n",
    "    vowels = \"aeiou\"\n",
    "    count = 0\n",
    "    for v in vowels:\n",
    "        count += words.count(v)\n",
    "    return count"
   ]
  },
  {
   "cell_type": "code",
   "execution_count": null,
   "id": "1b4f3df0",
   "metadata": {},
   "outputs": [],
   "source": [
    "def count_vowels(words):\n",
    "    return sum([words.count(v) for v in \"aeiou\"])"
   ]
  },
  {
   "cell_type": "code",
   "execution_count": null,
   "id": "b00547b6",
   "metadata": {},
   "outputs": [
    {
     "data": {
      "text/plain": [
       "3"
      ]
     },
     "execution_count": 4,
     "metadata": {},
     "output_type": "execute_result"
    }
   ],
   "source": [
    "count_vowels(\"apple\")  # 2\n",
    "count_vowels(\"banana\")  # 3"
   ]
  },
  {
   "cell_type": "code",
   "execution_count": null,
   "id": "00eec39c",
   "metadata": {},
   "outputs": [
    {
     "data": {
      "text/plain": [
       "'hi andhello'"
      ]
     },
     "execution_count": 26,
     "metadata": {},
     "output_type": "execute_result"
    }
   ],
   "source": [
    "# 2.\n",
    "word = \"apple\"\n",
    "words = \"hi andhello\"\n",
    "\n",
    "# word.find('p')\n",
    "# words.split('d')\n",
    "# word.replace('p','i',1)\n",
    "words.strip()"
   ]
  },
  {
   "cell_type": "code",
   "execution_count": null,
   "id": "006dd2a4",
   "metadata": {},
   "outputs": [],
   "source": []
  },
  {
   "cell_type": "code",
   "execution_count": null,
   "id": "5b05090a",
   "metadata": {},
   "outputs": [],
   "source": [
    "# 3. 정사각형만 만들기"
   ]
  },
  {
   "cell_type": "code",
   "execution_count": null,
   "id": "40b3e102",
   "metadata": {},
   "outputs": [],
   "source": [
    "# 한줄 \n",
    "return [width * height for width in widths for height in heights if width == height]"
   ]
  },
  {
   "cell_type": "code",
   "execution_count": null,
   "id": "be9490a2",
   "metadata": {},
   "outputs": [],
   "source": [
    "def only_square_area(widths, heights):\n",
    "    result = []\n",
    "    for w, h in zip(widths, heights):  # 너비와 높이를 한 쌍으로 묶음\n",
    "        if w == h:  # 정사각형 조건\n",
    "            result.append(w * h)  # 넓이 추가 (w * h == w²)\n",
    "    return result"
   ]
  },
  {
   "cell_type": "code",
   "execution_count": null,
   "id": "4b1b8054",
   "metadata": {},
   "outputs": [
    {
     "data": {
      "text/plain": [
       "[]"
      ]
     },
     "execution_count": 37,
     "metadata": {},
     "output_type": "execute_result"
    }
   ],
   "source": [
    "only_square_area([32, 55, 63], [13, 32, 40, 55])  # [1024, 3025]"
   ]
  },
  {
   "cell_type": "code",
   "execution_count": null,
   "id": "43828f8e",
   "metadata": {},
   "outputs": [],
   "source": [
    "# 250625_adv"
   ]
  },
  {
   "cell_type": "code",
   "execution_count": null,
   "id": "f0f8ae94",
   "metadata": {},
   "outputs": [],
   "source": [
    "# 1. 평균 점수 구하기"
   ]
  },
  {
   "cell_type": "code",
   "execution_count": 35,
   "id": "3c0f2e7a",
   "metadata": {},
   "outputs": [],
   "source": [
    "def get_dict_avg(scores):\n",
    "    result = 0\n",
    "    for name, score in scores.items():\n",
    "        result += score\n",
    "        avg = result / len(scores)\n",
    "    return avg"
   ]
  },
  {
   "cell_type": "code",
   "execution_count": null,
   "id": "10562b04",
   "metadata": {},
   "outputs": [
    {
     "data": {
      "text/plain": [
       "85.5"
      ]
     },
     "execution_count": 36,
     "metadata": {},
     "output_type": "execute_result"
    }
   ],
   "source": [
    "get_dict_avg(\n",
    "    {\n",
    "        \"python\": 80,\n",
    "        \"algorithm\": 90,\n",
    "        \"django\": 89,\n",
    "        \"web\": 83,\n",
    "    }\n",
    ")  # 85.5"
   ]
  },
  {
   "cell_type": "code",
   "execution_count": null,
   "id": "5fb760c9",
   "metadata": {},
   "outputs": [],
   "source": [
    "# 2. 혈액혈 분류하기"
   ]
  },
  {
   "cell_type": "markdown",
   "id": "90a3c65c",
   "metadata": {},
   "source": []
  },
  {
   "cell_type": "code",
   "execution_count": null,
   "id": "e47e5ce8",
   "metadata": {},
   "outputs": [],
   "source": [
    "def count_blood(blood_list):\n",
    "    result = {}\n",
    "    for blood in blood_list:\n",
    "        if blood in result:\n",
    "            result[blood] += 1\n",
    "        else:\n",
    "            result[blood] = 1\n",
    "    return result"
   ]
  },
  {
   "cell_type": "code",
   "execution_count": null,
   "id": "359c8f94",
   "metadata": {},
   "outputs": [],
   "source": []
  },
  {
   "cell_type": "code",
   "execution_count": null,
   "id": "41351b3a",
   "metadata": {},
   "outputs": [
    {
     "data": {
      "text/plain": [
       "{'A': 3, 'B': 3, 'O': 3, 'AB': 3}"
      ]
     },
     "execution_count": 39,
     "metadata": {},
     "output_type": "execute_result"
    }
   ],
   "source": [
    "count_blood(\n",
    "    [\n",
    "        \"A\",\n",
    "        \"B\",\n",
    "        \"A\",\n",
    "        \"O\",\n",
    "        \"AB\",\n",
    "        \"AB\",\n",
    "        \"O\",\n",
    "        \"A\",\n",
    "        \"B\",\n",
    "        \"O\",\n",
    "        \"B\",\n",
    "        \"AB\",\n",
    "    ]\n",
    ")  # {'A':3, 'B':3,'O':3,'AB':3}"
   ]
  }
 ],
 "metadata": {
  "kernelspec": {
   "display_name": "base",
   "language": "python",
   "name": "python3"
  },
  "language_info": {
   "codemirror_mode": {
    "name": "ipython",
    "version": 3
   },
   "file_extension": ".py",
   "mimetype": "text/x-python",
   "name": "python",
   "nbconvert_exporter": "python",
   "pygments_lexer": "ipython3",
   "version": "3.10.16"
  }
 },
 "nbformat": 4,
 "nbformat_minor": 5
}
