{
 "cells": [
  {
   "cell_type": "code",
   "execution_count": 6,
   "id": "a0d72a22",
   "metadata": {},
   "outputs": [
    {
     "name": "stdout",
     "output_type": "stream",
     "text": [
      "[2, 3, 1]\n",
      "[1, 2, 3]\n",
      "None\n"
     ]
    }
   ],
   "source": [
    "# sort(), sorted()\n",
    "a1 = [2,3,1]\n",
    "print(a1)\n",
    "a2 = a1.sort()\n",
    "\n",
    "print(a1)\n",
    "print(a2)"
   ]
  },
  {
   "cell_type": "code",
   "execution_count": 7,
   "id": "629b01c6",
   "metadata": {},
   "outputs": [
    {
     "name": "stdout",
     "output_type": "stream",
     "text": [
      "[6, 2, 8]\n",
      "[6, 2, 8]\n",
      "[2, 6, 8]\n"
     ]
    }
   ],
   "source": [
    "a1 = [6,2,8]\n",
    "print(a1)\n",
    "a2 = sorted(a1)\n",
    "\n",
    "print(a1)\n",
    "print(a2)"
   ]
  },
  {
   "cell_type": "code",
   "execution_count": 9,
   "metadata": {},
   "outputs": [
    {
     "name": "stdout",
     "output_type": "stream",
     "text": [
      "x: ['Tick', 'Tock', 'Song', ['Ping', 'Pong']]\n",
      "x: ['Tick', 'Tock', 'Song', 'Ping', 'Pong']\n"
     ]
    }
   ],
   "source": [
    "# .extend(), append()\n",
    "x = ['Tick', 'Tock', 'Song']\n",
    "y = ['Ping', 'Pong']\n",
    "x.append(y)\n",
    "print('x:', x)\n",
    "\n",
    "\n",
    "x = ['Tick', 'Tock', 'Song']\n",
    "y = ['Ping', 'Pong']\n",
    "x.extend(y)\n",
    "print('x:', x)"
   ]
  },
  {
   "cell_type": "code",
   "execution_count": 10,
   "id": "e486ba99",
   "metadata": {},
   "outputs": [
    {
     "name": "stdout",
     "output_type": "stream",
     "text": [
      "x: ['Tick', 'Tock', 'Song', [['Ping', 'Pong']]]\n",
      "x: ['Tick', 'Tock', 'Song', ['Ping', 'Pong']]\n"
     ]
    }
   ],
   "source": [
    "x = ['Tick', 'Tock', 'Song']\n",
    "y = [['Ping', 'Pong']]\n",
    "x.append(y)\n",
    "print('x:', x)\n",
    "\n",
    "x = ['Tick', 'Tock', 'Song']\n",
    "y = [['Ping', 'Pong']]\n",
    "x.extend(y)\n",
    "print('x:', x)\n"
   ]
  },
  {
   "cell_type": "code",
   "execution_count": 11,
   "metadata": {},
   "outputs": [
    {
     "name": "stdout",
     "output_type": "stream",
     "text": [
      "x: ['Tick', 'Tock', 'Song', 'Ping']\n",
      "x: ['Tick', 'Tock', 'Song', 'P', 'i', 'n', 'g']\n"
     ]
    }
   ],
   "source": [
    "\n",
    "x = ['Tick', 'Tock', 'Song']\n",
    "y = 'Ping'\n",
    "x.append(y)\n",
    "print('x:', x)\n",
    "\n",
    "x = ['Tick', 'Tock', 'Song']\n",
    "y = 'Ping'\n",
    "x.extend(y)\n",
    "print('x:', x)"
   ]
  },
  {
   "cell_type": "code",
   "execution_count": null,
   "metadata": {},
   "outputs": [
    {
     "name": "stdout",
     "output_type": "stream",
     "text": [
      "[1, 2, 5, 4, 5]\n",
      "[1, 2, 5, 4, 5]\n"
     ]
    }
   ],
   "source": [
    "a = [1, 2, 3, 4, 5]\n",
    "b = a\n",
    "\n",
    "a[2] = 5\n",
    "\n",
    "print(a) # 1,2,5,4,5\n",
    "print(b) # 1,2,5,4,5"
   ]
  },
  {
   "cell_type": "code",
   "execution_count": null,
   "metadata": {},
   "outputs": [],
   "source": [
    "# 250630adv"
   ]
  },
  {
   "cell_type": "code",
   "execution_count": null,
   "id": "75c42958",
   "metadata": {},
   "outputs": [
    {
     "name": "stdout",
     "output_type": "stream",
     "text": [
      "['a', 'n']\n"
     ]
    }
   ],
   "source": [
    "# 1 중복해서 나타난 문자들을 담은 list를 반환하는 함수 작성\n",
    "words = 'apple'\n",
    "result = []\n",
    "\n",
    "for word in words:\n",
    "    if words.count(word) > 1 and word not in result:\n",
    "        result.append(word)\n",
    "print(result)"
   ]
  },
  {
   "cell_type": "code",
   "execution_count": 26,
   "id": "34287ff9",
   "metadata": {},
   "outputs": [],
   "source": [
    "def duplicated_letters(words):\n",
    "    result = []\n",
    "\n",
    "    for word in words:\n",
    "        if words.count(word) > 1 and word not in result:\n",
    "            result.append(word)\n",
    "    return result"
   ]
  },
  {
   "cell_type": "code",
   "execution_count": 27,
   "id": "3455d60a",
   "metadata": {},
   "outputs": [
    {
     "data": {
      "text/plain": [
       "['a', 'n']"
      ]
     },
     "execution_count": 27,
     "metadata": {},
     "output_type": "execute_result"
    }
   ],
   "source": [
    "duplicated_letters('apple') # ['p']\n",
    "duplicated_letters('banana') # ['a','n']"
   ]
  },
  {
   "cell_type": "code",
   "execution_count": 25,
   "metadata": {},
   "outputs": [
    {
     "data": {
      "text/plain": [
       "'aPpLe'"
      ]
     },
     "execution_count": 25,
     "metadata": {},
     "output_type": "execute_result"
    }
   ],
   "source": [
    "# 2 소문자와 대문자가 번갈아 나타나도록 변환하여 반환하는 함수 작성\n",
    "words = 'apple'\n",
    "result = ''\n",
    "for w in range(len(words)):\n",
    "    if w % 2 == 0:\n",
    "        result += words[w].lower()\n",
    "    else:\n",
    "        result += words[w].upper()\n",
    "result"
   ]
  },
  {
   "cell_type": "code",
   "execution_count": 30,
   "id": "7214a68e",
   "metadata": {},
   "outputs": [],
   "source": [
    "def low_and_up(words):\n",
    "    result = ''\n",
    "    for w in range(len(words)):\n",
    "        if w % 2 == 0:\n",
    "            result += words[w].lower()\n",
    "        else:\n",
    "            result += words[w].upper()\n",
    "    return result"
   ]
  },
  {
   "cell_type": "code",
   "execution_count": 31,
   "id": "457849f6",
   "metadata": {},
   "outputs": [
    {
     "data": {
      "text/plain": [
       "'bAnAnA'"
      ]
     },
     "execution_count": 31,
     "metadata": {},
     "output_type": "execute_result"
    }
   ],
   "source": [
    "low_and_up('apple') # aPpLe\n",
    "low_and_up('banana') # bAnAnA"
   ]
  },
  {
   "cell_type": "code",
   "execution_count": null,
   "id": "05fdfc4f",
   "metadata": {},
   "outputs": [
    {
     "name": "stdout",
     "output_type": "stream",
     "text": [
      "[1, 3, 0, 1]\n"
     ]
    }
   ],
   "source": [
    "# 3 연속적으로 나타나는 숫자는 하나만 남기고 제거한 list를 반환하는 함수 작성\n",
    "numbers = [1,1,3,3,0,1,1]\n",
    "\n",
    "result = []\n",
    "for i in range(len(numbers)):\n",
    "    if i == 0 or numbers[i] != numbers [i-1]:\n",
    "        result.append(numbers[i])\n",
    "result\n",
    "\n",
    "# 강사님 풀이\n",
    "new_list = []\n",
    "if len(numbers) == 0:\n",
    "    new_list\n",
    "else:\n",
    "    new_list.append(numbers[0])\n",
    "\n",
    "    for num in numbers:\n",
    "        if num != new_list[-1]:\n",
    "            new_list.append(num)\n",
    "        else:\n",
    "            pass\n",
    "    print(new_list)\n",
    "\n",
    "def lonely(numbers: list):\n",
    "    new_list = []\n",
    "    if len(numbers) == 0:\n",
    "    # if not numbers:\n",
    "    # if numbers == []\n",
    "        return new_list\n",
    "    else:\n",
    "        new_list.append(numbers[0])\n",
    "\n",
    "        for num in numbers:\n",
    "            if num != new_list[-1]:\n",
    "                new_list.append(num)\n",
    "            \n",
    "        return new_list"
   ]
  },
  {
   "cell_type": "code",
   "execution_count": 35,
   "id": "dd352f58",
   "metadata": {},
   "outputs": [],
   "source": [
    "def lonely(numbers):\n",
    "    result = []\n",
    "    for i in range(len(numbers)):\n",
    "        if i == 0 or numbers[i] != numbers [i-1]:\n",
    "            result.append(numbers[i])\n",
    "    return result"
   ]
  },
  {
   "cell_type": "code",
   "execution_count": 36,
   "id": "a39c3fff",
   "metadata": {},
   "outputs": [
    {
     "data": {
      "text/plain": [
       "[4, 3]"
      ]
     },
     "execution_count": 36,
     "metadata": {},
     "output_type": "execute_result"
    }
   ],
   "source": [
    "lonely([1,1,3,3,0,1,1]) # [1,3,0,1]\n",
    "lonely([4,4,4,3,3]) #[4,3]"
   ]
  }
 ],
 "metadata": {
  "kernelspec": {
   "display_name": "base",
   "language": "python",
   "name": "python3"
  },
  "language_info": {
   "codemirror_mode": {
    "name": "ipython",
    "version": 3
   },
   "file_extension": ".py",
   "mimetype": "text/x-python",
   "name": "python",
   "nbconvert_exporter": "python",
   "pygments_lexer": "ipython3",
   "version": "3.10.16"
  }
 },
 "nbformat": 4,
 "nbformat_minor": 5
}
