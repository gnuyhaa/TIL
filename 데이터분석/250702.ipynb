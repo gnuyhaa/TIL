{
 "cells": [
  {
   "cell_type": "markdown",
   "id": "60708085",
   "metadata": {},
   "source": [
    "### numpy 실습"
   ]
  },
  {
   "cell_type": "code",
   "execution_count": 2,
   "id": "71534b0c",
   "metadata": {},
   "outputs": [],
   "source": [
    "import numpy as np"
   ]
  },
  {
   "cell_type": "code",
   "execution_count": null,
   "id": "6cdd6d77",
   "metadata": {},
   "outputs": [],
   "source": [
    "# 실습 1.\n",
    "x = [1,2,3,4,5,6,7,8,9]\n",
    "y = [10,20,30,40,50,60,70,80,90]"
   ]
  },
  {
   "cell_type": "code",
   "execution_count": 6,
   "id": "df044ed1",
   "metadata": {},
   "outputs": [
    {
     "data": {
      "text/plain": [
       "(array([[1, 2, 3],\n",
       "        [4, 5, 6],\n",
       "        [7, 8, 9]]),\n",
       " array([[10, 20, 30],\n",
       "        [40, 50, 60],\n",
       "        [70, 80, 90]]))"
      ]
     },
     "execution_count": 6,
     "metadata": {},
     "output_type": "execute_result"
    }
   ],
   "source": [
    "x = np.array(x)\n",
    "y = np.array(y)\n",
    "x = x.reshape(3,3)\n",
    "y = y.reshape(3,3)\n",
    "x, y"
   ]
  },
  {
   "cell_type": "code",
   "execution_count": 9,
   "id": "13cef64d",
   "metadata": {},
   "outputs": [
    {
     "data": {
      "text/plain": [
       "array([[11, 22, 33],\n",
       "       [44, 55, 66],\n",
       "       [77, 88, 99]])"
      ]
     },
     "execution_count": 9,
     "metadata": {},
     "output_type": "execute_result"
    }
   ],
   "source": [
    "# 행렬합\n",
    "x + y"
   ]
  },
  {
   "cell_type": "code",
   "execution_count": 7,
   "id": "15145c00",
   "metadata": {},
   "outputs": [
    {
     "data": {
      "text/plain": [
       "array([[ 300,  360,  420],\n",
       "       [ 660,  810,  960],\n",
       "       [1020, 1260, 1500]])"
      ]
     },
     "execution_count": 7,
     "metadata": {},
     "output_type": "execute_result"
    }
   ],
   "source": [
    "# 행렬곱\n",
    "x.dot(y)"
   ]
  },
  {
   "cell_type": "code",
   "execution_count": null,
   "metadata": {},
   "outputs": [],
   "source": []
  },
  {
   "cell_type": "code",
   "execution_count": 9,
   "id": "eabdd589",
   "metadata": {},
   "outputs": [
    {
     "data": {
      "text/plain": [
       "array([11.        , 11.65517241, 12.31034483, 12.96551724, 13.62068966,\n",
       "       14.27586207, 14.93103448, 15.5862069 , 16.24137931, 16.89655172,\n",
       "       17.55172414, 18.20689655, 18.86206897, 19.51724138, 20.17241379,\n",
       "       20.82758621, 21.48275862, 22.13793103, 22.79310345, 23.44827586,\n",
       "       24.10344828, 24.75862069, 25.4137931 , 26.06896552, 26.72413793,\n",
       "       27.37931034, 28.03448276, 28.68965517, 29.34482759, 30.        ])"
      ]
     },
     "execution_count": 9,
     "metadata": {},
     "output_type": "execute_result"
    }
   ],
   "source": [
    "# 실습 2. \n",
    "x = np.linspace(1,20,30)\n",
    "x + 10"
   ]
  },
  {
   "cell_type": "code",
   "execution_count": null,
   "id": "1ecd1429",
   "metadata": {},
   "outputs": [],
   "source": []
  },
  {
   "cell_type": "code",
   "execution_count": 10,
   "id": "b5d8d1f8",
   "metadata": {},
   "outputs": [
    {
     "data": {
      "text/plain": [
       "array([[[  2,  61,  59,  14,  91,  13,  65,  72,   2,  22],\n",
       "        [ 48,  75,  73,  17,  98,  31,   5,  19,  52,  79],\n",
       "        [ 17,  18,  72,  33,  86,  78,  26,  67, 100,   2],\n",
       "        [ 48,  80,  50,  61,  68,  11,  84,  36,   6,  69],\n",
       "        [ 23,  58,  29,   4,  18,  77,  48,  95,  92,  53],\n",
       "        [ 97,  80,  36,  90,  50,  18,  51,  32,   4,  29],\n",
       "        [ 24,  51,  16,  95,  26,  63,  30,  21,  79,  89],\n",
       "        [ 66,  44,  23,  14,  80,  95,  42,  71,   8,  66],\n",
       "        [ 42,   3,  22,  39,  33,  22,  31,  40,  25,  84],\n",
       "        [ 44,  68,  96,  83,  44,  19,  86,  74,  70,  56]],\n",
       "\n",
       "       [[ 51,   9,  65,  26,  37,  74,  33,  85,  31,  95],\n",
       "        [ 94,  77,  11,  29,  41,  20,  60,  10,  45,  87],\n",
       "        [ 50,  11,  42,  15,  94,  65,  47,  40,  98,   8],\n",
       "        [ 17,  39,  54,  88,  31,  87,  62,  43,  81,   7],\n",
       "        [  3,  94,  72,  32,  60,  68,  36,  41,  52,  36],\n",
       "        [ 11,   7,  49,  57,  33,   7,  69,  18,  48,  36],\n",
       "        [ 41,  58,   5,  76,  85,  13,  66,  39,  43,  77],\n",
       "        [ 34,  78,  19,  94,  77,  14,  62,  38,  59,  40],\n",
       "        [ 74, 100,  56,  62,  46,  56,  33,  88,  24,  25],\n",
       "        [ 42,   7,  98,  75,  47,  41,  33,  86,  20,   3]]], dtype=int32)"
      ]
     },
     "execution_count": 10,
     "metadata": {},
     "output_type": "execute_result"
    }
   ],
   "source": [
    "# 실습 3.\n",
    "x = np.random.randint(1, 101, size = (2,10,10))\n",
    "x"
   ]
  },
  {
   "cell_type": "code",
   "execution_count": 11,
   "metadata": {},
   "outputs": [
    {
     "data": {
      "text/plain": [
       "array([[[2, 1, 1, 2, 1, 2, 1, 1, 2, 2],\n",
       "        [2, 1, 1, 2, 1, 2, 2, 2, 1, 1],\n",
       "        [2, 2, 1, 2, 1, 1, 2, 1, 1, 2],\n",
       "        [2, 1, 1, 1, 1, 2, 1, 2, 2, 1],\n",
       "        [2, 1, 2, 2, 2, 1, 2, 1, 1, 1],\n",
       "        [1, 1, 2, 1, 1, 2, 1, 2, 2, 2],\n",
       "        [2, 1, 2, 1, 2, 1, 2, 2, 1, 1],\n",
       "        [1, 2, 2, 2, 1, 1, 2, 1, 2, 1],\n",
       "        [2, 2, 2, 2, 2, 2, 2, 2, 2, 1],\n",
       "        [2, 1, 1, 1, 2, 2, 1, 1, 1, 1]],\n",
       "\n",
       "       [[1, 2, 1, 2, 2, 1, 2, 1, 2, 1],\n",
       "        [1, 1, 2, 2, 2, 2, 1, 2, 2, 1],\n",
       "        [1, 2, 2, 2, 1, 1, 2, 2, 1, 2],\n",
       "        [2, 2, 1, 1, 2, 1, 1, 2, 1, 2],\n",
       "        [2, 1, 1, 2, 1, 1, 2, 2, 1, 2],\n",
       "        [2, 2, 2, 1, 2, 2, 1, 2, 2, 2],\n",
       "        [2, 1, 2, 1, 1, 2, 1, 2, 2, 1],\n",
       "        [2, 1, 2, 1, 1, 2, 1, 2, 1, 2],\n",
       "        [1, 1, 1, 1, 2, 1, 2, 1, 2, 2],\n",
       "        [2, 2, 1, 1, 2, 2, 2, 1, 2, 2]]])"
      ]
     },
     "execution_count": 11,
     "metadata": {},
     "output_type": "execute_result"
    }
   ],
   "source": [
    "x = np.where(x >= 50, 1, 2)\n",
    "x"
   ]
  },
  {
   "cell_type": "code",
   "execution_count": 13,
   "id": "d7b7b438",
   "metadata": {},
   "outputs": [
    {
     "data": {
      "text/plain": [
       "array([[2, 1, 2, 2, 2],\n",
       "       [2, 1, 2, 2, 1],\n",
       "       [2, 1, 2, 1, 2],\n",
       "       [1, 2, 1, 2, 2],\n",
       "       [2, 2, 1, 2, 2]])"
      ]
     },
     "execution_count": 13,
     "metadata": {},
     "output_type": "execute_result"
    }
   ],
   "source": [
    "x[1, 5:10,5:10]"
   ]
  },
  {
   "cell_type": "markdown",
   "id": "2cf6ba9e",
   "metadata": {},
   "source": [
    "### pandas 실습"
   ]
  },
  {
   "cell_type": "code",
   "execution_count": 14,
   "id": "15ac56f4",
   "metadata": {},
   "outputs": [],
   "source": [
    "import numpy as np\n",
    "import pandas as pd"
   ]
  },
  {
   "cell_type": "code",
   "execution_count": 19,
   "id": "c6ac781d",
   "metadata": {},
   "outputs": [
    {
     "data": {
      "text/plain": [
       "0     2.0\n",
       "1     NaN\n",
       "2     5.0\n",
       "3     2.0\n",
       "4     4.0\n",
       "5     4.0\n",
       "6     3.0\n",
       "7     4.0\n",
       "8     2.0\n",
       "9     NaN\n",
       "10    4.0\n",
       "11    5.0\n",
       "12    5.0\n",
       "13    4.0\n",
       "14    4.0\n",
       "15    1.0\n",
       "16    2.0\n",
       "17    1.0\n",
       "18    2.0\n",
       "19    2.0\n",
       "dtype: float64"
      ]
     },
     "execution_count": 19,
     "metadata": {},
     "output_type": "execute_result"
    }
   ],
   "source": [
    "# 실습 1\n",
    "# 1. 결측값 개수 구하기\n",
    "# 2. 결측값 제거한 series 만들기\n",
    "# 3. 결측값에 y의 평균값을 넣은 series만들기 \n",
    "\n",
    "x = [np.nan,1,2,3,4,5]\n",
    "y = pd.Series([x[np.random.randint(0,6)] for i in range(20)])\n",
    "y"
   ]
  },
  {
   "cell_type": "code",
   "execution_count": 20,
   "id": "12844b9b",
   "metadata": {},
   "outputs": [
    {
     "data": {
      "text/plain": [
       "np.int64(2)"
      ]
     },
     "execution_count": 20,
     "metadata": {},
     "output_type": "execute_result"
    }
   ],
   "source": [
    "y.isnull().sum()"
   ]
  },
  {
   "cell_type": "code",
   "execution_count": 21,
   "id": "226ba700",
   "metadata": {},
   "outputs": [
    {
     "data": {
      "text/plain": [
       "0     2.0\n",
       "2     5.0\n",
       "3     2.0\n",
       "4     4.0\n",
       "5     4.0\n",
       "6     3.0\n",
       "7     4.0\n",
       "8     2.0\n",
       "10    4.0\n",
       "11    5.0\n",
       "12    5.0\n",
       "13    4.0\n",
       "14    4.0\n",
       "15    1.0\n",
       "16    2.0\n",
       "17    1.0\n",
       "18    2.0\n",
       "19    2.0\n",
       "dtype: float64"
      ]
     },
     "execution_count": 21,
     "metadata": {},
     "output_type": "execute_result"
    }
   ],
   "source": [
    "no_y = y.dropna()\n",
    "no_y"
   ]
  },
  {
   "cell_type": "code",
   "execution_count": 22,
   "id": "a96889fa",
   "metadata": {},
   "outputs": [
    {
     "data": {
      "text/plain": [
       "0     2.000000\n",
       "1     3.111111\n",
       "2     5.000000\n",
       "3     2.000000\n",
       "4     4.000000\n",
       "5     4.000000\n",
       "6     3.000000\n",
       "7     4.000000\n",
       "8     2.000000\n",
       "9     3.111111\n",
       "10    4.000000\n",
       "11    5.000000\n",
       "12    5.000000\n",
       "13    4.000000\n",
       "14    4.000000\n",
       "15    1.000000\n",
       "16    2.000000\n",
       "17    1.000000\n",
       "18    2.000000\n",
       "19    2.000000\n",
       "dtype: float64"
      ]
     },
     "execution_count": 22,
     "metadata": {},
     "output_type": "execute_result"
    }
   ],
   "source": [
    "mean_y = y.fillna(y.mean())\n",
    "mean_y"
   ]
  },
  {
   "cell_type": "code",
   "execution_count": null,
   "id": "0290b387",
   "metadata": {},
   "outputs": [],
   "source": [
    "# 실습 2\n",
    "# 데이터프레임 만들기 \n"
   ]
  },
  {
   "cell_type": "code",
   "execution_count": null,
   "id": "b451ca02",
   "metadata": {},
   "outputs": [],
   "source": []
  }
 ],
 "metadata": {
  "kernelspec": {
   "display_name": "base",
   "language": "python",
   "name": "python3"
  },
  "language_info": {
   "codemirror_mode": {
    "name": "ipython",
    "version": 3
   },
   "file_extension": ".py",
   "mimetype": "text/x-python",
   "name": "python",
   "nbconvert_exporter": "python",
   "pygments_lexer": "ipython3",
   "version": "3.10.16"
  }
 },
 "nbformat": 4,
 "nbformat_minor": 5
}
