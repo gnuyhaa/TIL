{
 "cells": [
  {
   "cell_type": "markdown",
   "id": "60708085",
   "metadata": {},
   "source": [
    "### numpy 실습"
   ]
  },
  {
   "cell_type": "code",
   "execution_count": 1,
   "id": "71534b0c",
   "metadata": {},
   "outputs": [],
   "source": [
    "import numpy as np"
   ]
  },
  {
   "cell_type": "code",
   "execution_count": null,
   "id": "6cdd6d77",
   "metadata": {},
   "outputs": [],
   "source": [
    "# 실습 1.\n",
    "x = [1, 2, 3, 4, 5, 6, 7, 8, 9]\n",
    "y = [10, 20, 30, 40, 50, 60, 70, 80, 90]"
   ]
  },
  {
   "cell_type": "code",
   "execution_count": null,
   "id": "df044ed1",
   "metadata": {},
   "outputs": [
    {
     "data": {
      "text/plain": [
       "(array([[1, 2, 3],\n",
       "        [4, 5, 6],\n",
       "        [7, 8, 9]]),\n",
       " array([[10, 20, 30],\n",
       "        [40, 50, 60],\n",
       "        [70, 80, 90]]))"
      ]
     },
     "execution_count": 6,
     "metadata": {},
     "output_type": "execute_result"
    }
   ],
   "source": [
    "x = np.array(x)\n",
    "y = np.array(y)\n",
    "x = x.reshape(3, 3)\n",
    "y = y.reshape(3, 3)\n",
    "x, y"
   ]
  },
  {
   "cell_type": "code",
   "execution_count": 9,
   "id": "13cef64d",
   "metadata": {},
   "outputs": [
    {
     "data": {
      "text/plain": [
       "array([[11, 22, 33],\n",
       "       [44, 55, 66],\n",
       "       [77, 88, 99]])"
      ]
     },
     "execution_count": 9,
     "metadata": {},
     "output_type": "execute_result"
    }
   ],
   "source": [
    "# 행렬합\n",
    "x + y"
   ]
  },
  {
   "cell_type": "code",
   "execution_count": 7,
   "id": "15145c00",
   "metadata": {},
   "outputs": [
    {
     "data": {
      "text/plain": [
       "array([[ 300,  360,  420],\n",
       "       [ 660,  810,  960],\n",
       "       [1020, 1260, 1500]])"
      ]
     },
     "execution_count": 7,
     "metadata": {},
     "output_type": "execute_result"
    }
   ],
   "source": [
    "# 행렬곱\n",
    "x.dot(y)"
   ]
  },
  {
   "cell_type": "code",
   "execution_count": null,
   "metadata": {},
   "outputs": [],
   "source": []
  },
  {
   "cell_type": "code",
   "execution_count": null,
   "id": "eabdd589",
   "metadata": {},
   "outputs": [
    {
     "data": {
      "text/plain": [
       "array([11.        , 11.65517241, 12.31034483, 12.96551724, 13.62068966,\n",
       "       14.27586207, 14.93103448, 15.5862069 , 16.24137931, 16.89655172,\n",
       "       17.55172414, 18.20689655, 18.86206897, 19.51724138, 20.17241379,\n",
       "       20.82758621, 21.48275862, 22.13793103, 22.79310345, 23.44827586,\n",
       "       24.10344828, 24.75862069, 25.4137931 , 26.06896552, 26.72413793,\n",
       "       27.37931034, 28.03448276, 28.68965517, 29.34482759, 30.        ])"
      ]
     },
     "execution_count": 9,
     "metadata": {},
     "output_type": "execute_result"
    }
   ],
   "source": [
    "# 실습 2.\n",
    "x = np.linspace(1, 20, 30)\n",
    "x + 10"
   ]
  },
  {
   "cell_type": "code",
   "execution_count": null,
   "id": "1ecd1429",
   "metadata": {},
   "outputs": [],
   "source": []
  },
  {
   "cell_type": "code",
   "execution_count": null,
   "id": "b5d8d1f8",
   "metadata": {},
   "outputs": [
    {
     "data": {
      "text/plain": [
       "array([[[  2,  61,  59,  14,  91,  13,  65,  72,   2,  22],\n",
       "        [ 48,  75,  73,  17,  98,  31,   5,  19,  52,  79],\n",
       "        [ 17,  18,  72,  33,  86,  78,  26,  67, 100,   2],\n",
       "        [ 48,  80,  50,  61,  68,  11,  84,  36,   6,  69],\n",
       "        [ 23,  58,  29,   4,  18,  77,  48,  95,  92,  53],\n",
       "        [ 97,  80,  36,  90,  50,  18,  51,  32,   4,  29],\n",
       "        [ 24,  51,  16,  95,  26,  63,  30,  21,  79,  89],\n",
       "        [ 66,  44,  23,  14,  80,  95,  42,  71,   8,  66],\n",
       "        [ 42,   3,  22,  39,  33,  22,  31,  40,  25,  84],\n",
       "        [ 44,  68,  96,  83,  44,  19,  86,  74,  70,  56]],\n",
       "\n",
       "       [[ 51,   9,  65,  26,  37,  74,  33,  85,  31,  95],\n",
       "        [ 94,  77,  11,  29,  41,  20,  60,  10,  45,  87],\n",
       "        [ 50,  11,  42,  15,  94,  65,  47,  40,  98,   8],\n",
       "        [ 17,  39,  54,  88,  31,  87,  62,  43,  81,   7],\n",
       "        [  3,  94,  72,  32,  60,  68,  36,  41,  52,  36],\n",
       "        [ 11,   7,  49,  57,  33,   7,  69,  18,  48,  36],\n",
       "        [ 41,  58,   5,  76,  85,  13,  66,  39,  43,  77],\n",
       "        [ 34,  78,  19,  94,  77,  14,  62,  38,  59,  40],\n",
       "        [ 74, 100,  56,  62,  46,  56,  33,  88,  24,  25],\n",
       "        [ 42,   7,  98,  75,  47,  41,  33,  86,  20,   3]]], dtype=int32)"
      ]
     },
     "execution_count": 10,
     "metadata": {},
     "output_type": "execute_result"
    }
   ],
   "source": [
    "# 실습 3.\n",
    "# np.int(np.random.rand(2,10,10) * 100 + 1)\n",
    "x = np.random.randint(1, 101, size=(2, 10, 10))\n",
    "x"
   ]
  },
  {
   "cell_type": "code",
   "execution_count": 11,
   "metadata": {},
   "outputs": [
    {
     "data": {
      "text/plain": [
       "array([[[2, 1, 1, 2, 1, 2, 1, 1, 2, 2],\n",
       "        [2, 1, 1, 2, 1, 2, 2, 2, 1, 1],\n",
       "        [2, 2, 1, 2, 1, 1, 2, 1, 1, 2],\n",
       "        [2, 1, 1, 1, 1, 2, 1, 2, 2, 1],\n",
       "        [2, 1, 2, 2, 2, 1, 2, 1, 1, 1],\n",
       "        [1, 1, 2, 1, 1, 2, 1, 2, 2, 2],\n",
       "        [2, 1, 2, 1, 2, 1, 2, 2, 1, 1],\n",
       "        [1, 2, 2, 2, 1, 1, 2, 1, 2, 1],\n",
       "        [2, 2, 2, 2, 2, 2, 2, 2, 2, 1],\n",
       "        [2, 1, 1, 1, 2, 2, 1, 1, 1, 1]],\n",
       "\n",
       "       [[1, 2, 1, 2, 2, 1, 2, 1, 2, 1],\n",
       "        [1, 1, 2, 2, 2, 2, 1, 2, 2, 1],\n",
       "        [1, 2, 2, 2, 1, 1, 2, 2, 1, 2],\n",
       "        [2, 2, 1, 1, 2, 1, 1, 2, 1, 2],\n",
       "        [2, 1, 1, 2, 1, 1, 2, 2, 1, 2],\n",
       "        [2, 2, 2, 1, 2, 2, 1, 2, 2, 2],\n",
       "        [2, 1, 2, 1, 1, 2, 1, 2, 2, 1],\n",
       "        [2, 1, 2, 1, 1, 2, 1, 2, 1, 2],\n",
       "        [1, 1, 1, 1, 2, 1, 2, 1, 2, 2],\n",
       "        [2, 2, 1, 1, 2, 2, 2, 1, 2, 2]]])"
      ]
     },
     "execution_count": 11,
     "metadata": {},
     "output_type": "execute_result"
    }
   ],
   "source": [
    "x = np.where(x >= 50, 1, 2)\n",
    "x"
   ]
  },
  {
   "cell_type": "code",
   "execution_count": null,
   "id": "d7b7b438",
   "metadata": {},
   "outputs": [
    {
     "data": {
      "text/plain": [
       "array([[2, 1, 2, 2, 2],\n",
       "       [2, 1, 2, 2, 1],\n",
       "       [2, 1, 2, 1, 2],\n",
       "       [1, 2, 1, 2, 2],\n",
       "       [2, 2, 1, 2, 2]])"
      ]
     },
     "execution_count": 13,
     "metadata": {},
     "output_type": "execute_result"
    }
   ],
   "source": [
    "x[1, 5:10, 5:10]\n",
    "# x[1:, -5:, -5:]"
   ]
  },
  {
   "cell_type": "markdown",
   "id": "2cf6ba9e",
   "metadata": {},
   "source": [
    "### pandas 실습"
   ]
  },
  {
   "cell_type": "code",
   "execution_count": 2,
   "id": "15ac56f4",
   "metadata": {},
   "outputs": [],
   "source": [
    "import numpy as np\n",
    "import pandas as pd"
   ]
  },
  {
   "cell_type": "code",
   "execution_count": null,
   "id": "c6ac781d",
   "metadata": {},
   "outputs": [
    {
     "data": {
      "text/plain": [
       "0     2.0\n",
       "1     NaN\n",
       "2     5.0\n",
       "3     2.0\n",
       "4     4.0\n",
       "5     4.0\n",
       "6     3.0\n",
       "7     4.0\n",
       "8     2.0\n",
       "9     NaN\n",
       "10    4.0\n",
       "11    5.0\n",
       "12    5.0\n",
       "13    4.0\n",
       "14    4.0\n",
       "15    1.0\n",
       "16    2.0\n",
       "17    1.0\n",
       "18    2.0\n",
       "19    2.0\n",
       "dtype: float64"
      ]
     },
     "execution_count": 19,
     "metadata": {},
     "output_type": "execute_result"
    }
   ],
   "source": [
    "# 실습 1\n",
    "# 1. 결측값 개수 구하기\n",
    "# 2. 결측값 제거한 series 만들기\n",
    "# 3. 결측값에 y의 평균값을 넣은 series만들기\n",
    "\n",
    "x = [np.nan, 1, 2, 3, 4, 5]\n",
    "y = pd.Series([x[np.random.randint(0, 6)] for i in range(20)])\n",
    "y"
   ]
  },
  {
   "cell_type": "code",
   "execution_count": 20,
   "id": "12844b9b",
   "metadata": {},
   "outputs": [
    {
     "data": {
      "text/plain": [
       "np.int64(2)"
      ]
     },
     "execution_count": 20,
     "metadata": {},
     "output_type": "execute_result"
    }
   ],
   "source": [
    "y.isnull().sum()"
   ]
  },
  {
   "cell_type": "code",
   "execution_count": 21,
   "id": "226ba700",
   "metadata": {},
   "outputs": [
    {
     "data": {
      "text/plain": [
       "0     2.0\n",
       "2     5.0\n",
       "3     2.0\n",
       "4     4.0\n",
       "5     4.0\n",
       "6     3.0\n",
       "7     4.0\n",
       "8     2.0\n",
       "10    4.0\n",
       "11    5.0\n",
       "12    5.0\n",
       "13    4.0\n",
       "14    4.0\n",
       "15    1.0\n",
       "16    2.0\n",
       "17    1.0\n",
       "18    2.0\n",
       "19    2.0\n",
       "dtype: float64"
      ]
     },
     "execution_count": 21,
     "metadata": {},
     "output_type": "execute_result"
    }
   ],
   "source": [
    "no_y = y.dropna()\n",
    "no_y"
   ]
  },
  {
   "cell_type": "code",
   "execution_count": 22,
   "id": "a96889fa",
   "metadata": {},
   "outputs": [
    {
     "data": {
      "text/plain": [
       "0     2.000000\n",
       "1     3.111111\n",
       "2     5.000000\n",
       "3     2.000000\n",
       "4     4.000000\n",
       "5     4.000000\n",
       "6     3.000000\n",
       "7     4.000000\n",
       "8     2.000000\n",
       "9     3.111111\n",
       "10    4.000000\n",
       "11    5.000000\n",
       "12    5.000000\n",
       "13    4.000000\n",
       "14    4.000000\n",
       "15    1.000000\n",
       "16    2.000000\n",
       "17    1.000000\n",
       "18    2.000000\n",
       "19    2.000000\n",
       "dtype: float64"
      ]
     },
     "execution_count": 22,
     "metadata": {},
     "output_type": "execute_result"
    }
   ],
   "source": [
    "mean_y = y.fillna(y.mean())\n",
    "mean_y"
   ]
  },
  {
   "cell_type": "code",
   "execution_count": null,
   "id": "0290b387",
   "metadata": {},
   "outputs": [
    {
     "data": {
      "text/html": [
       "<div>\n",
       "<style scoped>\n",
       "    .dataframe tbody tr th:only-of-type {\n",
       "        vertical-align: middle;\n",
       "    }\n",
       "\n",
       "    .dataframe tbody tr th {\n",
       "        vertical-align: top;\n",
       "    }\n",
       "\n",
       "    .dataframe thead tr th {\n",
       "        text-align: left;\n",
       "    }\n",
       "</style>\n",
       "<table border=\"1\" class=\"dataframe\">\n",
       "  <thead>\n",
       "    <tr>\n",
       "      <th></th>\n",
       "      <th></th>\n",
       "      <th>국어</th>\n",
       "      <th>영어</th>\n",
       "      <th>과학</th>\n",
       "    </tr>\n",
       "  </thead>\n",
       "  <tbody>\n",
       "    <tr>\n",
       "      <th rowspan=\"5\" valign=\"top\">1학년</th>\n",
       "      <th>1반</th>\n",
       "      <td>65</td>\n",
       "      <td>46</td>\n",
       "      <td>39</td>\n",
       "    </tr>\n",
       "    <tr>\n",
       "      <th>2반</th>\n",
       "      <td>60</td>\n",
       "      <td>78</td>\n",
       "      <td>61</td>\n",
       "    </tr>\n",
       "    <tr>\n",
       "      <th>3반</th>\n",
       "      <td>76</td>\n",
       "      <td>55</td>\n",
       "      <td>38</td>\n",
       "    </tr>\n",
       "    <tr>\n",
       "      <th>4반</th>\n",
       "      <td>20</td>\n",
       "      <td>84</td>\n",
       "      <td>70</td>\n",
       "    </tr>\n",
       "    <tr>\n",
       "      <th>5반</th>\n",
       "      <td>84</td>\n",
       "      <td>22</td>\n",
       "      <td>80</td>\n",
       "    </tr>\n",
       "    <tr>\n",
       "      <th rowspan=\"5\" valign=\"top\">2학년</th>\n",
       "      <th>1반</th>\n",
       "      <td>34</td>\n",
       "      <td>38</td>\n",
       "      <td>8</td>\n",
       "    </tr>\n",
       "    <tr>\n",
       "      <th>2반</th>\n",
       "      <td>63</td>\n",
       "      <td>90</td>\n",
       "      <td>38</td>\n",
       "    </tr>\n",
       "    <tr>\n",
       "      <th>3반</th>\n",
       "      <td>73</td>\n",
       "      <td>66</td>\n",
       "      <td>34</td>\n",
       "    </tr>\n",
       "    <tr>\n",
       "      <th>4반</th>\n",
       "      <td>52</td>\n",
       "      <td>39</td>\n",
       "      <td>36</td>\n",
       "    </tr>\n",
       "    <tr>\n",
       "      <th>5반</th>\n",
       "      <td>85</td>\n",
       "      <td>54</td>\n",
       "      <td>56</td>\n",
       "    </tr>\n",
       "    <tr>\n",
       "      <th rowspan=\"5\" valign=\"top\">3학년</th>\n",
       "      <th>1반</th>\n",
       "      <td>25</td>\n",
       "      <td>28</td>\n",
       "      <td>40</td>\n",
       "    </tr>\n",
       "    <tr>\n",
       "      <th>2반</th>\n",
       "      <td>59</td>\n",
       "      <td>44</td>\n",
       "      <td>83</td>\n",
       "    </tr>\n",
       "    <tr>\n",
       "      <th>3반</th>\n",
       "      <td>35</td>\n",
       "      <td>20</td>\n",
       "      <td>83</td>\n",
       "    </tr>\n",
       "    <tr>\n",
       "      <th>4반</th>\n",
       "      <td>97</td>\n",
       "      <td>80</td>\n",
       "      <td>40</td>\n",
       "    </tr>\n",
       "    <tr>\n",
       "      <th>5반</th>\n",
       "      <td>87</td>\n",
       "      <td>73</td>\n",
       "      <td>78</td>\n",
       "    </tr>\n",
       "  </tbody>\n",
       "</table>\n",
       "</div>"
      ],
      "text/plain": [
       "        국어  영어  과학\n",
       "1학년 1반  65  46  39\n",
       "    2반  60  78  61\n",
       "    3반  76  55  38\n",
       "    4반  20  84  70\n",
       "    5반  84  22  80\n",
       "2학년 1반  34  38   8\n",
       "    2반  63  90  38\n",
       "    3반  73  66  34\n",
       "    4반  52  39  36\n",
       "    5반  85  54  56\n",
       "3학년 1반  25  28  40\n",
       "    2반  59  44  83\n",
       "    3반  35  20  83\n",
       "    4반  97  80  40\n",
       "    5반  87  73  78"
      ]
     },
     "execution_count": 3,
     "metadata": {},
     "output_type": "execute_result"
    }
   ],
   "source": [
    "# 실습 2\n",
    "# 데이터프레임 만들기\n",
    "grades = [\"1학년\"] * 5 + [\"2학년\"] * 5 + [\"3학년\"] * 5\n",
    "# grades = [f'{i}학년' for i in range(1,4) for _ in range(5)]\n",
    "\n",
    "classes = [\"1반\", \"2반\", \"3반\", \"4반\", \"5반\"] * 3\n",
    "# classes = [f'{i}반' for i in range(1,6)] * 3\n",
    "\n",
    "df = pd.DataFrame(\n",
    "    np.random.randint(1, 101, size=(15, 3)),\n",
    "    index=[grades, classes],\n",
    "    columns=[[\"국어\", \"영어\", \"과학\"]],\n",
    ")\n",
    "df"
   ]
  },
  {
   "cell_type": "code",
   "execution_count": null,
   "id": "f8ff5e2a",
   "metadata": {},
   "outputs": [
    {
     "data": {
      "text/html": [
       "<div>\n",
       "<style scoped>\n",
       "    .dataframe tbody tr th:only-of-type {\n",
       "        vertical-align: middle;\n",
       "    }\n",
       "\n",
       "    .dataframe tbody tr th {\n",
       "        vertical-align: top;\n",
       "    }\n",
       "\n",
       "    .dataframe thead tr th {\n",
       "        text-align: left;\n",
       "    }\n",
       "</style>\n",
       "<table border=\"1\" class=\"dataframe\">\n",
       "  <thead>\n",
       "    <tr>\n",
       "      <th></th>\n",
       "      <th></th>\n",
       "      <th>국어</th>\n",
       "      <th>영어</th>\n",
       "      <th>과학</th>\n",
       "      <th>총점</th>\n",
       "      <th>평균</th>\n",
       "    </tr>\n",
       "  </thead>\n",
       "  <tbody>\n",
       "    <tr>\n",
       "      <th rowspan=\"5\" valign=\"top\">1학년</th>\n",
       "      <th>1반</th>\n",
       "      <td>68</td>\n",
       "      <td>88</td>\n",
       "      <td>60</td>\n",
       "      <td>216</td>\n",
       "      <td>72.000000</td>\n",
       "    </tr>\n",
       "    <tr>\n",
       "      <th>2반</th>\n",
       "      <td>13</td>\n",
       "      <td>9</td>\n",
       "      <td>13</td>\n",
       "      <td>35</td>\n",
       "      <td>11.666667</td>\n",
       "    </tr>\n",
       "    <tr>\n",
       "      <th>3반</th>\n",
       "      <td>44</td>\n",
       "      <td>78</td>\n",
       "      <td>70</td>\n",
       "      <td>192</td>\n",
       "      <td>64.000000</td>\n",
       "    </tr>\n",
       "    <tr>\n",
       "      <th>4반</th>\n",
       "      <td>13</td>\n",
       "      <td>11</td>\n",
       "      <td>85</td>\n",
       "      <td>109</td>\n",
       "      <td>36.333333</td>\n",
       "    </tr>\n",
       "    <tr>\n",
       "      <th>5반</th>\n",
       "      <td>47</td>\n",
       "      <td>2</td>\n",
       "      <td>72</td>\n",
       "      <td>121</td>\n",
       "      <td>40.333333</td>\n",
       "    </tr>\n",
       "    <tr>\n",
       "      <th rowspan=\"5\" valign=\"top\">2학년</th>\n",
       "      <th>1반</th>\n",
       "      <td>28</td>\n",
       "      <td>20</td>\n",
       "      <td>29</td>\n",
       "      <td>77</td>\n",
       "      <td>25.666667</td>\n",
       "    </tr>\n",
       "    <tr>\n",
       "      <th>2반</th>\n",
       "      <td>57</td>\n",
       "      <td>15</td>\n",
       "      <td>45</td>\n",
       "      <td>117</td>\n",
       "      <td>39.000000</td>\n",
       "    </tr>\n",
       "    <tr>\n",
       "      <th>3반</th>\n",
       "      <td>83</td>\n",
       "      <td>21</td>\n",
       "      <td>34</td>\n",
       "      <td>138</td>\n",
       "      <td>46.000000</td>\n",
       "    </tr>\n",
       "    <tr>\n",
       "      <th>4반</th>\n",
       "      <td>32</td>\n",
       "      <td>25</td>\n",
       "      <td>60</td>\n",
       "      <td>117</td>\n",
       "      <td>39.000000</td>\n",
       "    </tr>\n",
       "    <tr>\n",
       "      <th>5반</th>\n",
       "      <td>15</td>\n",
       "      <td>8</td>\n",
       "      <td>67</td>\n",
       "      <td>90</td>\n",
       "      <td>30.000000</td>\n",
       "    </tr>\n",
       "    <tr>\n",
       "      <th rowspan=\"5\" valign=\"top\">3학년</th>\n",
       "      <th>1반</th>\n",
       "      <td>29</td>\n",
       "      <td>83</td>\n",
       "      <td>64</td>\n",
       "      <td>176</td>\n",
       "      <td>58.666667</td>\n",
       "    </tr>\n",
       "    <tr>\n",
       "      <th>2반</th>\n",
       "      <td>25</td>\n",
       "      <td>35</td>\n",
       "      <td>57</td>\n",
       "      <td>117</td>\n",
       "      <td>39.000000</td>\n",
       "    </tr>\n",
       "    <tr>\n",
       "      <th>3반</th>\n",
       "      <td>51</td>\n",
       "      <td>90</td>\n",
       "      <td>76</td>\n",
       "      <td>217</td>\n",
       "      <td>72.333333</td>\n",
       "    </tr>\n",
       "    <tr>\n",
       "      <th>4반</th>\n",
       "      <td>30</td>\n",
       "      <td>25</td>\n",
       "      <td>39</td>\n",
       "      <td>94</td>\n",
       "      <td>31.333333</td>\n",
       "    </tr>\n",
       "    <tr>\n",
       "      <th>5반</th>\n",
       "      <td>24</td>\n",
       "      <td>28</td>\n",
       "      <td>21</td>\n",
       "      <td>73</td>\n",
       "      <td>24.333333</td>\n",
       "    </tr>\n",
       "  </tbody>\n",
       "</table>\n",
       "</div>"
      ],
      "text/plain": [
       "        국어  영어  과학   총점         평균\n",
       "1학년 1반  68  88  60  216  72.000000\n",
       "    2반  13   9  13   35  11.666667\n",
       "    3반  44  78  70  192  64.000000\n",
       "    4반  13  11  85  109  36.333333\n",
       "    5반  47   2  72  121  40.333333\n",
       "2학년 1반  28  20  29   77  25.666667\n",
       "    2반  57  15  45  117  39.000000\n",
       "    3반  83  21  34  138  46.000000\n",
       "    4반  32  25  60  117  39.000000\n",
       "    5반  15   8  67   90  30.000000\n",
       "3학년 1반  29  83  64  176  58.666667\n",
       "    2반  25  35  57  117  39.000000\n",
       "    3반  51  90  76  217  72.333333\n",
       "    4반  30  25  39   94  31.333333\n",
       "    5반  24  28  21   73  24.333333"
      ]
     },
     "execution_count": 19,
     "metadata": {},
     "output_type": "execute_result"
    }
   ],
   "source": [
    "# 총점 평균 추가\n",
    "\n",
    "df[\"총점\"] = df.sum(axis=1)\n",
    "df[\"평균\"] = df[\"총점\"] / 3\n",
    "df"
   ]
  },
  {
   "cell_type": "code",
   "execution_count": null,
   "id": "832f8164",
   "metadata": {},
   "outputs": [
    {
     "data": {
      "text/html": [
       "<div>\n",
       "<style scoped>\n",
       "    .dataframe tbody tr th:only-of-type {\n",
       "        vertical-align: middle;\n",
       "    }\n",
       "\n",
       "    .dataframe tbody tr th {\n",
       "        vertical-align: top;\n",
       "    }\n",
       "\n",
       "    .dataframe thead tr th {\n",
       "        text-align: left;\n",
       "    }\n",
       "\n",
       "    .dataframe thead tr:last-of-type th {\n",
       "        text-align: right;\n",
       "    }\n",
       "</style>\n",
       "<table border=\"1\" class=\"dataframe\">\n",
       "  <thead>\n",
       "    <tr>\n",
       "      <th></th>\n",
       "      <th>국어</th>\n",
       "      <th>영어</th>\n",
       "      <th>과학</th>\n",
       "      <th>총점</th>\n",
       "      <th>평균</th>\n",
       "    </tr>\n",
       "    <tr>\n",
       "      <th>학년</th>\n",
       "      <th></th>\n",
       "      <th></th>\n",
       "      <th></th>\n",
       "      <th></th>\n",
       "      <th></th>\n",
       "    </tr>\n",
       "  </thead>\n",
       "  <tbody>\n",
       "    <tr>\n",
       "      <th>1학년</th>\n",
       "      <td>185</td>\n",
       "      <td>188</td>\n",
       "      <td>300</td>\n",
       "      <td>673</td>\n",
       "      <td>224.333333</td>\n",
       "    </tr>\n",
       "    <tr>\n",
       "      <th>2학년</th>\n",
       "      <td>215</td>\n",
       "      <td>89</td>\n",
       "      <td>235</td>\n",
       "      <td>539</td>\n",
       "      <td>179.666667</td>\n",
       "    </tr>\n",
       "    <tr>\n",
       "      <th>3학년</th>\n",
       "      <td>159</td>\n",
       "      <td>261</td>\n",
       "      <td>257</td>\n",
       "      <td>677</td>\n",
       "      <td>225.666667</td>\n",
       "    </tr>\n",
       "  </tbody>\n",
       "</table>\n",
       "</div>"
      ],
      "text/plain": [
       "      국어   영어   과학   총점          평균\n",
       "학년                                 \n",
       "1학년  185  188  300  673  224.333333\n",
       "2학년  215   89  235  539  179.666667\n",
       "3학년  159  261  257  677  225.666667"
      ]
     },
     "execution_count": 25,
     "metadata": {},
     "output_type": "execute_result"
    }
   ],
   "source": [
    "# 학년별 합계\n",
    "\n",
    "df.index.names = [\"학년\", \"반\"]\n",
    "result = df.groupby(\"학년\").sum()\n",
    "# df.groupby(\"학년\").sum()['국어','영어','과학']/5\n",
    "result"
   ]
  },
  {
   "cell_type": "code",
   "execution_count": 8,
   "id": "16403b92",
   "metadata": {},
   "outputs": [
    {
     "data": {
      "text/html": [
       "<div>\n",
       "<style scoped>\n",
       "    .dataframe tbody tr th:only-of-type {\n",
       "        vertical-align: middle;\n",
       "    }\n",
       "\n",
       "    .dataframe tbody tr th {\n",
       "        vertical-align: top;\n",
       "    }\n",
       "\n",
       "    .dataframe thead th {\n",
       "        text-align: right;\n",
       "    }\n",
       "</style>\n",
       "<table border=\"1\" class=\"dataframe\">\n",
       "  <thead>\n",
       "    <tr style=\"text-align: right;\">\n",
       "      <th></th>\n",
       "      <th>PassengerId</th>\n",
       "      <th>Survived</th>\n",
       "      <th>Pclass</th>\n",
       "      <th>Name</th>\n",
       "      <th>Sex</th>\n",
       "      <th>Age</th>\n",
       "      <th>SibSp</th>\n",
       "      <th>Parch</th>\n",
       "      <th>Ticket</th>\n",
       "      <th>Fare</th>\n",
       "      <th>Cabin</th>\n",
       "      <th>Embarked</th>\n",
       "    </tr>\n",
       "  </thead>\n",
       "  <tbody>\n",
       "    <tr>\n",
       "      <th>0</th>\n",
       "      <td>1</td>\n",
       "      <td>0</td>\n",
       "      <td>3</td>\n",
       "      <td>Braund, Mr. Owen Harris</td>\n",
       "      <td>male</td>\n",
       "      <td>22.0</td>\n",
       "      <td>1</td>\n",
       "      <td>0</td>\n",
       "      <td>A/5 21171</td>\n",
       "      <td>7.2500</td>\n",
       "      <td>NaN</td>\n",
       "      <td>S</td>\n",
       "    </tr>\n",
       "    <tr>\n",
       "      <th>1</th>\n",
       "      <td>2</td>\n",
       "      <td>1</td>\n",
       "      <td>1</td>\n",
       "      <td>Cumings, Mrs. John Bradley (Florence Briggs Th...</td>\n",
       "      <td>female</td>\n",
       "      <td>38.0</td>\n",
       "      <td>1</td>\n",
       "      <td>0</td>\n",
       "      <td>PC 17599</td>\n",
       "      <td>71.2833</td>\n",
       "      <td>C85</td>\n",
       "      <td>C</td>\n",
       "    </tr>\n",
       "    <tr>\n",
       "      <th>2</th>\n",
       "      <td>3</td>\n",
       "      <td>1</td>\n",
       "      <td>3</td>\n",
       "      <td>Heikkinen, Miss. Laina</td>\n",
       "      <td>female</td>\n",
       "      <td>26.0</td>\n",
       "      <td>0</td>\n",
       "      <td>0</td>\n",
       "      <td>STON/O2. 3101282</td>\n",
       "      <td>7.9250</td>\n",
       "      <td>NaN</td>\n",
       "      <td>S</td>\n",
       "    </tr>\n",
       "    <tr>\n",
       "      <th>3</th>\n",
       "      <td>4</td>\n",
       "      <td>1</td>\n",
       "      <td>1</td>\n",
       "      <td>Futrelle, Mrs. Jacques Heath (Lily May Peel)</td>\n",
       "      <td>female</td>\n",
       "      <td>35.0</td>\n",
       "      <td>1</td>\n",
       "      <td>0</td>\n",
       "      <td>113803</td>\n",
       "      <td>53.1000</td>\n",
       "      <td>C123</td>\n",
       "      <td>S</td>\n",
       "    </tr>\n",
       "    <tr>\n",
       "      <th>4</th>\n",
       "      <td>5</td>\n",
       "      <td>0</td>\n",
       "      <td>3</td>\n",
       "      <td>Allen, Mr. William Henry</td>\n",
       "      <td>male</td>\n",
       "      <td>35.0</td>\n",
       "      <td>0</td>\n",
       "      <td>0</td>\n",
       "      <td>373450</td>\n",
       "      <td>8.0500</td>\n",
       "      <td>NaN</td>\n",
       "      <td>S</td>\n",
       "    </tr>\n",
       "  </tbody>\n",
       "</table>\n",
       "</div>"
      ],
      "text/plain": [
       "   PassengerId  Survived  Pclass  \\\n",
       "0            1         0       3   \n",
       "1            2         1       1   \n",
       "2            3         1       3   \n",
       "3            4         1       1   \n",
       "4            5         0       3   \n",
       "\n",
       "                                                Name     Sex   Age  SibSp  \\\n",
       "0                            Braund, Mr. Owen Harris    male  22.0      1   \n",
       "1  Cumings, Mrs. John Bradley (Florence Briggs Th...  female  38.0      1   \n",
       "2                             Heikkinen, Miss. Laina  female  26.0      0   \n",
       "3       Futrelle, Mrs. Jacques Heath (Lily May Peel)  female  35.0      1   \n",
       "4                           Allen, Mr. William Henry    male  35.0      0   \n",
       "\n",
       "   Parch            Ticket     Fare Cabin Embarked  \n",
       "0      0         A/5 21171   7.2500   NaN        S  \n",
       "1      0          PC 17599  71.2833   C85        C  \n",
       "2      0  STON/O2. 3101282   7.9250   NaN        S  \n",
       "3      0            113803  53.1000  C123        S  \n",
       "4      0            373450   8.0500   NaN        S  "
      ]
     },
     "execution_count": 8,
     "metadata": {},
     "output_type": "execute_result"
    }
   ],
   "source": [
    "# 실습 3\n",
    "titanic = pd.read_csv(\"./train.csv\")\n",
    "titanic.head(5)"
   ]
  },
  {
   "cell_type": "code",
   "execution_count": 9,
   "id": "e7552b8f",
   "metadata": {},
   "outputs": [
    {
     "data": {
      "text/html": [
       "<div>\n",
       "<style scoped>\n",
       "    .dataframe tbody tr th:only-of-type {\n",
       "        vertical-align: middle;\n",
       "    }\n",
       "\n",
       "    .dataframe tbody tr th {\n",
       "        vertical-align: top;\n",
       "    }\n",
       "\n",
       "    .dataframe thead th {\n",
       "        text-align: right;\n",
       "    }\n",
       "</style>\n",
       "<table border=\"1\" class=\"dataframe\">\n",
       "  <thead>\n",
       "    <tr style=\"text-align: right;\">\n",
       "      <th></th>\n",
       "      <th>PassengerId</th>\n",
       "      <th>Survived</th>\n",
       "      <th>Pclass</th>\n",
       "      <th>Name</th>\n",
       "      <th>Sex</th>\n",
       "      <th>Age</th>\n",
       "      <th>SibSp</th>\n",
       "      <th>Parch</th>\n",
       "      <th>Ticket</th>\n",
       "      <th>Fare</th>\n",
       "      <th>Cabin</th>\n",
       "      <th>Embarked</th>\n",
       "    </tr>\n",
       "  </thead>\n",
       "  <tbody>\n",
       "    <tr>\n",
       "      <th>0</th>\n",
       "      <td>1</td>\n",
       "      <td>0</td>\n",
       "      <td>3</td>\n",
       "      <td>Braund, Mr. Owen Harris</td>\n",
       "      <td>male</td>\n",
       "      <td>22.0</td>\n",
       "      <td>1</td>\n",
       "      <td>0</td>\n",
       "      <td>A/5 21171</td>\n",
       "      <td>7.2500</td>\n",
       "      <td>N</td>\n",
       "      <td>S</td>\n",
       "    </tr>\n",
       "    <tr>\n",
       "      <th>1</th>\n",
       "      <td>2</td>\n",
       "      <td>1</td>\n",
       "      <td>1</td>\n",
       "      <td>Cumings, Mrs. John Bradley (Florence Briggs Th...</td>\n",
       "      <td>female</td>\n",
       "      <td>38.0</td>\n",
       "      <td>1</td>\n",
       "      <td>0</td>\n",
       "      <td>PC 17599</td>\n",
       "      <td>71.2833</td>\n",
       "      <td>C85</td>\n",
       "      <td>C</td>\n",
       "    </tr>\n",
       "    <tr>\n",
       "      <th>2</th>\n",
       "      <td>3</td>\n",
       "      <td>1</td>\n",
       "      <td>3</td>\n",
       "      <td>Heikkinen, Miss. Laina</td>\n",
       "      <td>female</td>\n",
       "      <td>26.0</td>\n",
       "      <td>0</td>\n",
       "      <td>0</td>\n",
       "      <td>STON/O2. 3101282</td>\n",
       "      <td>7.9250</td>\n",
       "      <td>N</td>\n",
       "      <td>S</td>\n",
       "    </tr>\n",
       "    <tr>\n",
       "      <th>3</th>\n",
       "      <td>4</td>\n",
       "      <td>1</td>\n",
       "      <td>1</td>\n",
       "      <td>Futrelle, Mrs. Jacques Heath (Lily May Peel)</td>\n",
       "      <td>female</td>\n",
       "      <td>35.0</td>\n",
       "      <td>1</td>\n",
       "      <td>0</td>\n",
       "      <td>113803</td>\n",
       "      <td>53.1000</td>\n",
       "      <td>C123</td>\n",
       "      <td>S</td>\n",
       "    </tr>\n",
       "    <tr>\n",
       "      <th>4</th>\n",
       "      <td>5</td>\n",
       "      <td>0</td>\n",
       "      <td>3</td>\n",
       "      <td>Allen, Mr. William Henry</td>\n",
       "      <td>male</td>\n",
       "      <td>35.0</td>\n",
       "      <td>0</td>\n",
       "      <td>0</td>\n",
       "      <td>373450</td>\n",
       "      <td>8.0500</td>\n",
       "      <td>N</td>\n",
       "      <td>S</td>\n",
       "    </tr>\n",
       "  </tbody>\n",
       "</table>\n",
       "</div>"
      ],
      "text/plain": [
       "   PassengerId  Survived  Pclass  \\\n",
       "0            1         0       3   \n",
       "1            2         1       1   \n",
       "2            3         1       3   \n",
       "3            4         1       1   \n",
       "4            5         0       3   \n",
       "\n",
       "                                                Name     Sex   Age  SibSp  \\\n",
       "0                            Braund, Mr. Owen Harris    male  22.0      1   \n",
       "1  Cumings, Mrs. John Bradley (Florence Briggs Th...  female  38.0      1   \n",
       "2                             Heikkinen, Miss. Laina  female  26.0      0   \n",
       "3       Futrelle, Mrs. Jacques Heath (Lily May Peel)  female  35.0      1   \n",
       "4                           Allen, Mr. William Henry    male  35.0      0   \n",
       "\n",
       "   Parch            Ticket     Fare Cabin Embarked  \n",
       "0      0         A/5 21171   7.2500     N        S  \n",
       "1      0          PC 17599  71.2833   C85        C  \n",
       "2      0  STON/O2. 3101282   7.9250     N        S  \n",
       "3      0            113803  53.1000  C123        S  \n",
       "4      0            373450   8.0500     N        S  "
      ]
     },
     "execution_count": 9,
     "metadata": {},
     "output_type": "execute_result"
    }
   ],
   "source": [
    "# 1. 결측치 처리\n",
    "titanic[\"Age\"] = titanic[\"Age\"].fillna(titanic[\"Age\"].mean())\n",
    "titanic[\"Cabin\"] = titanic[\"Cabin\"].fillna(\"N\")\n",
    "titanic[\"Embarked\"] = titanic[\"Embarked\"].fillna(\"N\")\n",
    "titanic.head(5)"
   ]
  },
  {
   "cell_type": "code",
   "execution_count": null,
   "id": "d9de042c",
   "metadata": {},
   "outputs": [],
   "source": []
  },
  {
   "cell_type": "code",
   "execution_count": 10,
   "id": "c4bb9810",
   "metadata": {},
   "outputs": [
    {
     "data": {
      "text/plain": [
       "Sex\n",
       "female    233\n",
       "male      109\n",
       "Name: Survived, dtype: int64"
      ]
     },
     "execution_count": 10,
     "metadata": {},
     "output_type": "execute_result"
    }
   ],
   "source": [
    "# 2. 성별 생존자 합\n",
    "titanic.groupby(\"Sex\")[\"Survived\"].sum()"
   ]
  },
  {
   "cell_type": "code",
   "execution_count": null,
   "id": "4fbba56f",
   "metadata": {},
   "outputs": [],
   "source": []
  },
  {
   "cell_type": "code",
   "execution_count": 11,
   "id": "b4e335ed",
   "metadata": {},
   "outputs": [
    {
     "data": {
      "text/plain": [
       "Pclass\n",
       "1    136\n",
       "2     87\n",
       "3    119\n",
       "Name: Survived, dtype: int64"
      ]
     },
     "execution_count": 11,
     "metadata": {},
     "output_type": "execute_result"
    }
   ],
   "source": [
    "# 3. 클래스별 생존자 합\n",
    "titanic.groupby(\"Pclass\")[\"Survived\"].sum()"
   ]
  },
  {
   "cell_type": "code",
   "execution_count": 12,
   "id": "f1a753a4",
   "metadata": {},
   "outputs": [
    {
     "data": {
      "text/plain": [
       "0      20대\n",
       "1      30대\n",
       "2      20대\n",
       "3      30대\n",
       "4      30대\n",
       "      ... \n",
       "886    20대\n",
       "887    10대\n",
       "888    20대\n",
       "889    20대\n",
       "890    30대\n",
       "Name: Age, Length: 891, dtype: object"
      ]
     },
     "execution_count": 12,
     "metadata": {},
     "output_type": "execute_result"
    }
   ],
   "source": [
    "def change(age):\n",
    "    if age < 10:\n",
    "        return '유아'\n",
    "    elif age < 70:\n",
    "        return f'{int(age// 10)}0대'\n",
    "    else:\n",
    "        return '노인'\n",
    "titanic[\"Age\"].apply(change)"
   ]
  },
  {
   "cell_type": "code",
   "execution_count": 13,
   "id": "9cef3f1b",
   "metadata": {},
   "outputs": [
    {
     "data": {
      "text/plain": [
       "Age_Range\n",
       "10대     41\n",
       "20대    129\n",
       "30대     73\n",
       "40대     34\n",
       "50대     20\n",
       "60대      6\n",
       "노인       1\n",
       "유아      38\n",
       "Name: Survived, dtype: int64"
      ]
     },
     "execution_count": 13,
     "metadata": {},
     "output_type": "execute_result"
    }
   ],
   "source": [
    "# 4. 나이별 생존자 합\n",
    "def age_group(age):\n",
    "    if age < 10:\n",
    "        return \"유아\"\n",
    "    elif age < 20:\n",
    "        return \"10대\"\n",
    "    elif age < 30:\n",
    "        return \"20대\"\n",
    "    elif age < 40:\n",
    "        return \"30대\"\n",
    "    elif age < 50:\n",
    "        return \"40대\"\n",
    "    elif age < 60:\n",
    "        return \"50대\"\n",
    "    elif age < 70:\n",
    "        return \"60대\"\n",
    "    elif age >= 70:\n",
    "        return \"노인\"\n",
    "\n",
    "\n",
    "titanic[\"Age_Range\"] = titanic[\"Age\"].apply(age_group)\n",
    "titanic.groupby(\"Age_Range\")[\"Survived\"].sum()"
   ]
  },
  {
   "cell_type": "code",
   "execution_count": 14,
   "id": "37734d8c",
   "metadata": {},
   "outputs": [
    {
     "data": {
      "text/plain": [
       "Age_Range\n",
       "10대    0.401961\n",
       "20대    0.324937\n",
       "30대    0.437126\n",
       "40대    0.382022\n",
       "50대    0.416667\n",
       "60대    0.315789\n",
       "노인     0.142857\n",
       "유아     0.612903\n",
       "Name: Survived, dtype: float64"
      ]
     },
     "execution_count": 14,
     "metadata": {},
     "output_type": "execute_result"
    }
   ],
   "source": [
    "titanic.groupby(\"Age_Range\")[\"Survived\"].sum() / titanic.groupby(['Age_Range']).count()['Survived']"
   ]
  },
  {
   "cell_type": "code",
   "execution_count": null,
   "id": "4dbaeb64",
   "metadata": {},
   "outputs": [],
   "source": []
  }
 ],
 "metadata": {
  "kernelspec": {
   "display_name": "base",
   "language": "python",
   "name": "python3"
  },
  "language_info": {
   "codemirror_mode": {
    "name": "ipython",
    "version": 3
   },
   "file_extension": ".py",
   "mimetype": "text/x-python",
   "name": "python",
   "nbconvert_exporter": "python",
   "pygments_lexer": "ipython3",
   "version": "3.10.16"
  }
 },
 "nbformat": 4,
 "nbformat_minor": 5
}
